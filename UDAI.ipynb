{
  "cells": [
    {
      "cell_type": "markdown",
      "metadata": {
        "id": "7GS3T5EkA9QK"
      },
      "source": [
        "# **I. EDA**"
      ]
    },
    {
      "cell_type": "code",
      "execution_count": 1,
      "metadata": {
        "id": "pJQu0jMWA8Iu"
      },
      "outputs": [],
      "source": [
        "import pandas as pd\n",
        "import numpy as np\n",
        "import matplotlib.pyplot as plt\n",
        "import seaborn as sns"
      ]
    },
    {
      "cell_type": "code",
      "execution_count": 2,
      "metadata": {
        "id": "drBoB_29Gk3P"
      },
      "outputs": [],
      "source": [
        "df = pd.read_csv('D:/Downloads/UDAI/data.csv', encoding='latin-1')"
      ]
    },
    {
      "cell_type": "code",
      "execution_count": 3,
      "metadata": {
        "colab": {
          "base_uri": "https://localhost:8080/"
        },
        "id": "AQKB3JRkGrQM",
        "outputId": "697aa18e-a1c6-4bf8-b709-2e3b625cb394"
      },
      "outputs": [
        {
          "name": "stdout",
          "output_type": "stream",
          "text": [
            "<class 'pandas.core.frame.DataFrame'>\n",
            "RangeIndex: 541909 entries, 0 to 541908\n",
            "Data columns (total 8 columns):\n",
            " #   Column       Non-Null Count   Dtype  \n",
            "---  ------       --------------   -----  \n",
            " 0   InvoiceNo    541909 non-null  object \n",
            " 1   StockCode    541909 non-null  object \n",
            " 2   Description  540455 non-null  object \n",
            " 3   Quantity     541909 non-null  int64  \n",
            " 4   InvoiceDate  541909 non-null  object \n",
            " 5   UnitPrice    541909 non-null  float64\n",
            " 6   CustomerID   406829 non-null  float64\n",
            " 7   Country      541909 non-null  object \n",
            "dtypes: float64(2), int64(1), object(5)\n",
            "memory usage: 33.1+ MB\n"
          ]
        }
      ],
      "source": [
        "df.info()"
      ]
    },
    {
      "cell_type": "markdown",
      "metadata": {
        "id": "vHf3WKEfJ70b"
      },
      "source": [
        "- InvoiceNo: Đây là cột kiểu dữ liệu đối tượng chứa số hóa đơn cho mỗi giao dịch. Mỗi số hóa đơn có thể biểu thị nhiều mặt hàng được mua trong một giao dịch duy nhất.\n",
        "- StockCode: Cột kiểu dữ liệu đối tượng biểu thị mã sản phẩm cho từng mặt hàng.\n",
        "- Description: Cột này, cũng là một kiểu dữ liệu đối tượng, chứa mô tả về các sản phẩm. Cột này có một số giá trị bị thiếu, với 540.455 mục không phải null trong số 541.909 mục.\n",
        "- Quantity: Đây là một cột số nguyên biểu thị số lượng sản phẩm được mua trong mỗi giao dịch.\n",
        "- InvoiceDate: Cột datetime ghi lại ngày và giờ của mỗi giao dịch.\n",
        "- UnitPrice: Cột float biểu thị đơn giá của mỗi sản phẩm.\n",
        "- CustomerID: Cột float chứa ID khách hàng cho mỗi giao dịch. Cột này có số lượng giá trị bị thiếu đáng kể, chỉ có 406.829 mục không phải null trong số 541.909 mục.\n",
        "- Country: Cột đối tượng ghi lại quốc gia nơi diễn ra mỗi giao dịch."
      ]
    },
    {
      "cell_type": "code",
      "execution_count": 4,
      "metadata": {
        "colab": {
          "base_uri": "https://localhost:8080/",
          "height": 206
        },
        "id": "r7VYHa3jGy7H",
        "outputId": "af74a309-d0e6-408f-aba5-84e9b3c41462"
      },
      "outputs": [
        {
          "data": {
            "text/html": [
              "<div>\n",
              "<style scoped>\n",
              "    .dataframe tbody tr th:only-of-type {\n",
              "        vertical-align: middle;\n",
              "    }\n",
              "\n",
              "    .dataframe tbody tr th {\n",
              "        vertical-align: top;\n",
              "    }\n",
              "\n",
              "    .dataframe thead th {\n",
              "        text-align: right;\n",
              "    }\n",
              "</style>\n",
              "<table border=\"1\" class=\"dataframe\">\n",
              "  <thead>\n",
              "    <tr style=\"text-align: right;\">\n",
              "      <th></th>\n",
              "      <th>InvoiceNo</th>\n",
              "      <th>StockCode</th>\n",
              "      <th>Description</th>\n",
              "      <th>Quantity</th>\n",
              "      <th>InvoiceDate</th>\n",
              "      <th>UnitPrice</th>\n",
              "      <th>CustomerID</th>\n",
              "      <th>Country</th>\n",
              "    </tr>\n",
              "  </thead>\n",
              "  <tbody>\n",
              "    <tr>\n",
              "      <th>0</th>\n",
              "      <td>536365</td>\n",
              "      <td>85123A</td>\n",
              "      <td>WHITE HANGING HEART T-LIGHT HOLDER</td>\n",
              "      <td>6</td>\n",
              "      <td>12/1/2010 8:26</td>\n",
              "      <td>2.55</td>\n",
              "      <td>17850.0</td>\n",
              "      <td>United Kingdom</td>\n",
              "    </tr>\n",
              "    <tr>\n",
              "      <th>1</th>\n",
              "      <td>536365</td>\n",
              "      <td>71053</td>\n",
              "      <td>WHITE METAL LANTERN</td>\n",
              "      <td>6</td>\n",
              "      <td>12/1/2010 8:26</td>\n",
              "      <td>3.39</td>\n",
              "      <td>17850.0</td>\n",
              "      <td>United Kingdom</td>\n",
              "    </tr>\n",
              "    <tr>\n",
              "      <th>2</th>\n",
              "      <td>536365</td>\n",
              "      <td>84406B</td>\n",
              "      <td>CREAM CUPID HEARTS COAT HANGER</td>\n",
              "      <td>8</td>\n",
              "      <td>12/1/2010 8:26</td>\n",
              "      <td>2.75</td>\n",
              "      <td>17850.0</td>\n",
              "      <td>United Kingdom</td>\n",
              "    </tr>\n",
              "    <tr>\n",
              "      <th>3</th>\n",
              "      <td>536365</td>\n",
              "      <td>84029G</td>\n",
              "      <td>KNITTED UNION FLAG HOT WATER BOTTLE</td>\n",
              "      <td>6</td>\n",
              "      <td>12/1/2010 8:26</td>\n",
              "      <td>3.39</td>\n",
              "      <td>17850.0</td>\n",
              "      <td>United Kingdom</td>\n",
              "    </tr>\n",
              "    <tr>\n",
              "      <th>4</th>\n",
              "      <td>536365</td>\n",
              "      <td>84029E</td>\n",
              "      <td>RED WOOLLY HOTTIE WHITE HEART.</td>\n",
              "      <td>6</td>\n",
              "      <td>12/1/2010 8:26</td>\n",
              "      <td>3.39</td>\n",
              "      <td>17850.0</td>\n",
              "      <td>United Kingdom</td>\n",
              "    </tr>\n",
              "  </tbody>\n",
              "</table>\n",
              "</div>"
            ],
            "text/plain": [
              "  InvoiceNo StockCode                          Description  Quantity  \\\n",
              "0    536365    85123A   WHITE HANGING HEART T-LIGHT HOLDER         6   \n",
              "1    536365     71053                  WHITE METAL LANTERN         6   \n",
              "2    536365    84406B       CREAM CUPID HEARTS COAT HANGER         8   \n",
              "3    536365    84029G  KNITTED UNION FLAG HOT WATER BOTTLE         6   \n",
              "4    536365    84029E       RED WOOLLY HOTTIE WHITE HEART.         6   \n",
              "\n",
              "      InvoiceDate  UnitPrice  CustomerID         Country  \n",
              "0  12/1/2010 8:26       2.55     17850.0  United Kingdom  \n",
              "1  12/1/2010 8:26       3.39     17850.0  United Kingdom  \n",
              "2  12/1/2010 8:26       2.75     17850.0  United Kingdom  \n",
              "3  12/1/2010 8:26       3.39     17850.0  United Kingdom  \n",
              "4  12/1/2010 8:26       3.39     17850.0  United Kingdom  "
            ]
          },
          "execution_count": 4,
          "metadata": {},
          "output_type": "execute_result"
        }
      ],
      "source": [
        "df.head()"
      ]
    },
    {
      "cell_type": "code",
      "execution_count": 5,
      "metadata": {
        "colab": {
          "base_uri": "https://localhost:8080/",
          "height": 206
        },
        "id": "i7DToWutG9Mh",
        "outputId": "f6e34122-65f2-4f5a-ebdd-9d12806c7784"
      },
      "outputs": [
        {
          "data": {
            "text/html": [
              "<div>\n",
              "<style scoped>\n",
              "    .dataframe tbody tr th:only-of-type {\n",
              "        vertical-align: middle;\n",
              "    }\n",
              "\n",
              "    .dataframe tbody tr th {\n",
              "        vertical-align: top;\n",
              "    }\n",
              "\n",
              "    .dataframe thead th {\n",
              "        text-align: right;\n",
              "    }\n",
              "</style>\n",
              "<table border=\"1\" class=\"dataframe\">\n",
              "  <thead>\n",
              "    <tr style=\"text-align: right;\">\n",
              "      <th></th>\n",
              "      <th>InvoiceNo</th>\n",
              "      <th>StockCode</th>\n",
              "      <th>Description</th>\n",
              "      <th>Quantity</th>\n",
              "      <th>InvoiceDate</th>\n",
              "      <th>UnitPrice</th>\n",
              "      <th>CustomerID</th>\n",
              "      <th>Country</th>\n",
              "    </tr>\n",
              "  </thead>\n",
              "  <tbody>\n",
              "    <tr>\n",
              "      <th>541904</th>\n",
              "      <td>581587</td>\n",
              "      <td>22613</td>\n",
              "      <td>PACK OF 20 SPACEBOY NAPKINS</td>\n",
              "      <td>12</td>\n",
              "      <td>12/9/2011 12:50</td>\n",
              "      <td>0.85</td>\n",
              "      <td>12680.0</td>\n",
              "      <td>France</td>\n",
              "    </tr>\n",
              "    <tr>\n",
              "      <th>541905</th>\n",
              "      <td>581587</td>\n",
              "      <td>22899</td>\n",
              "      <td>CHILDREN'S APRON DOLLY GIRL</td>\n",
              "      <td>6</td>\n",
              "      <td>12/9/2011 12:50</td>\n",
              "      <td>2.10</td>\n",
              "      <td>12680.0</td>\n",
              "      <td>France</td>\n",
              "    </tr>\n",
              "    <tr>\n",
              "      <th>541906</th>\n",
              "      <td>581587</td>\n",
              "      <td>23254</td>\n",
              "      <td>CHILDRENS CUTLERY DOLLY GIRL</td>\n",
              "      <td>4</td>\n",
              "      <td>12/9/2011 12:50</td>\n",
              "      <td>4.15</td>\n",
              "      <td>12680.0</td>\n",
              "      <td>France</td>\n",
              "    </tr>\n",
              "    <tr>\n",
              "      <th>541907</th>\n",
              "      <td>581587</td>\n",
              "      <td>23255</td>\n",
              "      <td>CHILDRENS CUTLERY CIRCUS PARADE</td>\n",
              "      <td>4</td>\n",
              "      <td>12/9/2011 12:50</td>\n",
              "      <td>4.15</td>\n",
              "      <td>12680.0</td>\n",
              "      <td>France</td>\n",
              "    </tr>\n",
              "    <tr>\n",
              "      <th>541908</th>\n",
              "      <td>581587</td>\n",
              "      <td>22138</td>\n",
              "      <td>BAKING SET 9 PIECE RETROSPOT</td>\n",
              "      <td>3</td>\n",
              "      <td>12/9/2011 12:50</td>\n",
              "      <td>4.95</td>\n",
              "      <td>12680.0</td>\n",
              "      <td>France</td>\n",
              "    </tr>\n",
              "  </tbody>\n",
              "</table>\n",
              "</div>"
            ],
            "text/plain": [
              "       InvoiceNo StockCode                      Description  Quantity  \\\n",
              "541904    581587     22613      PACK OF 20 SPACEBOY NAPKINS        12   \n",
              "541905    581587     22899     CHILDREN'S APRON DOLLY GIRL          6   \n",
              "541906    581587     23254    CHILDRENS CUTLERY DOLLY GIRL          4   \n",
              "541907    581587     23255  CHILDRENS CUTLERY CIRCUS PARADE         4   \n",
              "541908    581587     22138    BAKING SET 9 PIECE RETROSPOT          3   \n",
              "\n",
              "            InvoiceDate  UnitPrice  CustomerID Country  \n",
              "541904  12/9/2011 12:50       0.85     12680.0  France  \n",
              "541905  12/9/2011 12:50       2.10     12680.0  France  \n",
              "541906  12/9/2011 12:50       4.15     12680.0  France  \n",
              "541907  12/9/2011 12:50       4.15     12680.0  France  \n",
              "541908  12/9/2011 12:50       4.95     12680.0  France  "
            ]
          },
          "execution_count": 5,
          "metadata": {},
          "output_type": "execute_result"
        }
      ],
      "source": [
        "df.tail()"
      ]
    },
    {
      "cell_type": "code",
      "execution_count": 6,
      "metadata": {
        "colab": {
          "base_uri": "https://localhost:8080/"
        },
        "id": "mlnOfqOLHD7t",
        "outputId": "dfc9ccf2-c428-4932-ab51-ca52ddf2163c"
      },
      "outputs": [
        {
          "data": {
            "text/plain": [
              "(541909, 8)"
            ]
          },
          "execution_count": 6,
          "metadata": {},
          "output_type": "execute_result"
        }
      ],
      "source": [
        "df.shape"
      ]
    },
    {
      "cell_type": "code",
      "execution_count": 7,
      "metadata": {
        "colab": {
          "base_uri": "https://localhost:8080/"
        },
        "id": "mp-ulNEmHKRA",
        "outputId": "d9cf436e-4214-463c-a397-a0961635671a"
      },
      "outputs": [
        {
          "name": "stdout",
          "output_type": "stream",
          "text": [
            "InvoiceNo\n",
            "573585     1114\n",
            "581219      749\n",
            "581492      731\n",
            "580729      721\n",
            "558475      705\n",
            "           ... \n",
            "581483        1\n",
            "581566        1\n",
            "C581499       1\n",
            "C536383       1\n",
            "C536379       1\n",
            "Name: count, Length: 25900, dtype: int64\n",
            "******************************\n",
            "StockCode\n",
            "85123A    2313\n",
            "22423     2203\n",
            "85099B    2159\n",
            "47566     1727\n",
            "20725     1639\n",
            "          ... \n",
            "85179a       1\n",
            "23617        1\n",
            "90214U       1\n",
            "47591b       1\n",
            "72802c       1\n",
            "Name: count, Length: 4070, dtype: int64\n",
            "******************************\n",
            "Description\n",
            "WHITE HANGING HEART T-LIGHT HOLDER    2369\n",
            "REGENCY CAKESTAND 3 TIER              2200\n",
            "JUMBO BAG RED RETROSPOT               2159\n",
            "PARTY BUNTING                         1727\n",
            "LUNCH BAG RED RETROSPOT               1638\n",
            "                                      ... \n",
            "ANT SILVER TURQUOISE BOUDICCA RING       1\n",
            "Damages                                  1\n",
            "Found by jackie                          1\n",
            "water damaged                            1\n",
            "lost in space                            1\n",
            "Name: count, Length: 4223, dtype: int64\n",
            "******************************\n",
            "InvoiceDate\n",
            "10/31/2011 14:41    1114\n",
            "12/8/2011 9:28       749\n",
            "12/9/2011 10:03      731\n",
            "12/5/2011 17:24      721\n",
            "6/29/2011 15:58      705\n",
            "                    ... \n",
            "10/27/2011 10:58       1\n",
            "10/27/2011 12:57       1\n",
            "10/27/2011 12:13       1\n",
            "12/9/2011 11:57        1\n",
            "12/9/2011 11:50        1\n",
            "Name: count, Length: 23260, dtype: int64\n",
            "******************************\n",
            "Country\n",
            "United Kingdom          495478\n",
            "Germany                   9495\n",
            "France                    8557\n",
            "EIRE                      8196\n",
            "Spain                     2533\n",
            "Netherlands               2371\n",
            "Belgium                   2069\n",
            "Switzerland               2002\n",
            "Portugal                  1519\n",
            "Australia                 1259\n",
            "Norway                    1086\n",
            "Italy                      803\n",
            "Channel Islands            758\n",
            "Finland                    695\n",
            "Cyprus                     622\n",
            "Sweden                     462\n",
            "Unspecified                446\n",
            "Austria                    401\n",
            "Denmark                    389\n",
            "Japan                      358\n",
            "Poland                     341\n",
            "Israel                     297\n",
            "USA                        291\n",
            "Hong Kong                  288\n",
            "Singapore                  229\n",
            "Iceland                    182\n",
            "Canada                     151\n",
            "Greece                     146\n",
            "Malta                      127\n",
            "United Arab Emirates        68\n",
            "European Community          61\n",
            "RSA                         58\n",
            "Lebanon                     45\n",
            "Lithuania                   35\n",
            "Brazil                      32\n",
            "Czech Republic              30\n",
            "Bahrain                     19\n",
            "Saudi Arabia                10\n",
            "Name: count, dtype: int64\n",
            "******************************\n"
          ]
        }
      ],
      "source": [
        "for i in df.select_dtypes(include = 'object').columns:\n",
        "  print(df[i].value_counts())\n",
        "  print(\"***\"*10)"
      ]
    },
    {
      "cell_type": "code",
      "execution_count": 8,
      "metadata": {
        "colab": {
          "base_uri": "https://localhost:8080/",
          "height": 143
        },
        "id": "pM-vqYu7IR-f",
        "outputId": "ccb388e4-78ec-4ee5-8bd7-15611153e1d6"
      },
      "outputs": [
        {
          "data": {
            "text/html": [
              "<div>\n",
              "<style scoped>\n",
              "    .dataframe tbody tr th:only-of-type {\n",
              "        vertical-align: middle;\n",
              "    }\n",
              "\n",
              "    .dataframe tbody tr th {\n",
              "        vertical-align: top;\n",
              "    }\n",
              "\n",
              "    .dataframe thead th {\n",
              "        text-align: right;\n",
              "    }\n",
              "</style>\n",
              "<table border=\"1\" class=\"dataframe\">\n",
              "  <thead>\n",
              "    <tr style=\"text-align: right;\">\n",
              "      <th></th>\n",
              "      <th>count</th>\n",
              "      <th>mean</th>\n",
              "      <th>std</th>\n",
              "      <th>min</th>\n",
              "      <th>25%</th>\n",
              "      <th>50%</th>\n",
              "      <th>75%</th>\n",
              "      <th>max</th>\n",
              "    </tr>\n",
              "  </thead>\n",
              "  <tbody>\n",
              "    <tr>\n",
              "      <th>Quantity</th>\n",
              "      <td>541909.0</td>\n",
              "      <td>9.552250</td>\n",
              "      <td>218.081158</td>\n",
              "      <td>-80995.00</td>\n",
              "      <td>1.00</td>\n",
              "      <td>3.00</td>\n",
              "      <td>10.00</td>\n",
              "      <td>80995.0</td>\n",
              "    </tr>\n",
              "    <tr>\n",
              "      <th>UnitPrice</th>\n",
              "      <td>541909.0</td>\n",
              "      <td>4.611114</td>\n",
              "      <td>96.759853</td>\n",
              "      <td>-11062.06</td>\n",
              "      <td>1.25</td>\n",
              "      <td>2.08</td>\n",
              "      <td>4.13</td>\n",
              "      <td>38970.0</td>\n",
              "    </tr>\n",
              "    <tr>\n",
              "      <th>CustomerID</th>\n",
              "      <td>406829.0</td>\n",
              "      <td>15287.690570</td>\n",
              "      <td>1713.600303</td>\n",
              "      <td>12346.00</td>\n",
              "      <td>13953.00</td>\n",
              "      <td>15152.00</td>\n",
              "      <td>16791.00</td>\n",
              "      <td>18287.0</td>\n",
              "    </tr>\n",
              "  </tbody>\n",
              "</table>\n",
              "</div>"
            ],
            "text/plain": [
              "               count          mean          std       min       25%       50%  \\\n",
              "Quantity    541909.0      9.552250   218.081158 -80995.00      1.00      3.00   \n",
              "UnitPrice   541909.0      4.611114    96.759853 -11062.06      1.25      2.08   \n",
              "CustomerID  406829.0  15287.690570  1713.600303  12346.00  13953.00  15152.00   \n",
              "\n",
              "                 75%      max  \n",
              "Quantity       10.00  80995.0  \n",
              "UnitPrice       4.13  38970.0  \n",
              "CustomerID  16791.00  18287.0  "
            ]
          },
          "execution_count": 8,
          "metadata": {},
          "output_type": "execute_result"
        }
      ],
      "source": [
        "df.describe().T"
      ]
    },
    {
      "cell_type": "code",
      "execution_count": 9,
      "metadata": {
        "colab": {
          "base_uri": "https://localhost:8080/",
          "height": 206
        },
        "id": "Bcdm0tutHIeF",
        "outputId": "5d725564-115d-4d47-f790-3aa8ef0ee1ac"
      },
      "outputs": [
        {
          "data": {
            "text/html": [
              "<div>\n",
              "<style scoped>\n",
              "    .dataframe tbody tr th:only-of-type {\n",
              "        vertical-align: middle;\n",
              "    }\n",
              "\n",
              "    .dataframe tbody tr th {\n",
              "        vertical-align: top;\n",
              "    }\n",
              "\n",
              "    .dataframe thead th {\n",
              "        text-align: right;\n",
              "    }\n",
              "</style>\n",
              "<table border=\"1\" class=\"dataframe\">\n",
              "  <thead>\n",
              "    <tr style=\"text-align: right;\">\n",
              "      <th></th>\n",
              "      <th>count</th>\n",
              "      <th>unique</th>\n",
              "      <th>top</th>\n",
              "      <th>freq</th>\n",
              "    </tr>\n",
              "  </thead>\n",
              "  <tbody>\n",
              "    <tr>\n",
              "      <th>InvoiceNo</th>\n",
              "      <td>541909</td>\n",
              "      <td>25900</td>\n",
              "      <td>573585</td>\n",
              "      <td>1114</td>\n",
              "    </tr>\n",
              "    <tr>\n",
              "      <th>StockCode</th>\n",
              "      <td>541909</td>\n",
              "      <td>4070</td>\n",
              "      <td>85123A</td>\n",
              "      <td>2313</td>\n",
              "    </tr>\n",
              "    <tr>\n",
              "      <th>Description</th>\n",
              "      <td>540455</td>\n",
              "      <td>4223</td>\n",
              "      <td>WHITE HANGING HEART T-LIGHT HOLDER</td>\n",
              "      <td>2369</td>\n",
              "    </tr>\n",
              "    <tr>\n",
              "      <th>InvoiceDate</th>\n",
              "      <td>541909</td>\n",
              "      <td>23260</td>\n",
              "      <td>10/31/2011 14:41</td>\n",
              "      <td>1114</td>\n",
              "    </tr>\n",
              "    <tr>\n",
              "      <th>Country</th>\n",
              "      <td>541909</td>\n",
              "      <td>38</td>\n",
              "      <td>United Kingdom</td>\n",
              "      <td>495478</td>\n",
              "    </tr>\n",
              "  </tbody>\n",
              "</table>\n",
              "</div>"
            ],
            "text/plain": [
              "              count unique                                 top    freq\n",
              "InvoiceNo    541909  25900                              573585    1114\n",
              "StockCode    541909   4070                              85123A    2313\n",
              "Description  540455   4223  WHITE HANGING HEART T-LIGHT HOLDER    2369\n",
              "InvoiceDate  541909  23260                    10/31/2011 14:41    1114\n",
              "Country      541909     38                      United Kingdom  495478"
            ]
          },
          "execution_count": 9,
          "metadata": {},
          "output_type": "execute_result"
        }
      ],
      "source": [
        "df.describe(include = 'object').T"
      ]
    },
    {
      "cell_type": "markdown",
      "metadata": {
        "id": "OW1Cgo84K9Br"
      },
      "source": [
        "Quantity:\n",
        "- Số lượng sản phẩm trung bình trong một giao dịch là khoảng 9,55.\n",
        "- Số lượng có phạm vi rộng, với giá trị tối thiểu là -80995 và giá trị tối đa là 80995. Các giá trị âm biểu thị các đơn hàng đã trả lại hoặc đã hủy, cần được xử lý phù hợp.\n",
        "- Độ lệch chuẩn khá lớn, biểu thị sự phân tán đáng kể trong dữ liệu. Sự hiện diện của các giá trị ngoại lệ được biểu thị bằng sự chênh lệch lớn giữa giá trị tối đa và giá trị phần trăm thứ 75.\n",
        "\n",
        "UnitPrice:\n",
        "- Giá đơn vị trung bình của các sản phẩm là khoảng 4,61.\n",
        "- Giá đơn vị cũng cho thấy phạm vi rộng, từ -11062,06 đến 38970, điều này cho thấy sự hiện diện của lỗi hoặc nhiễu trong dữ liệu, vì giá âm không có ý nghĩa.\n",
        "- Tương tự như cột Số lượng, sự hiện diện của các giá trị ngoại lệ được biểu thị bằng sự chênh lệch lớn giữa giá trị tối đa và giá trị phần trăm thứ 75.\n",
        "\n",
        "CustomerID:\n",
        "- Có 406829 mục nhập không phải null, biểu thị các giá trị bị thiếu trong tập dữ liệu cần được giải quyết.\n",
        "- ID khách hàng nằm trong khoảng từ 12346 đến 18287, giúp xác định những khách hàng duy nhất.\n",
        "\n",
        "InvoiceNo:\n",
        "- Có 25900 số hóa đơn duy nhất, biểu thị 25900 giao dịch riêng biệt.\n",
        "- Số hóa đơn thường xuyên nhất là 573585, xuất hiện 1114 lần, có thể biểu thị một giao dịch lớn hoặc một đơn hàng có nhiều mặt hàng.\n",
        "\n",
        "StockCode:\n",
        "- Có 4070 mã kho duy nhất biểu thị các sản phẩm khác nhau.\n",
        "- Mã kho thường xuyên nhất là 85123A, xuất hiện 2313 lần trong tập dữ liệu.\n",
        "\n",
        "Description:\n",
        "- Có 4223 mô tả sản phẩm duy nhất.\n",
        "- Mô tả sản phẩm thường gặp nhất là \"WHITE HANGING HEART T-LIGHT HOLDER\", xuất hiện 2369 lần.\n",
        "- Có một số giá trị bị thiếu trong cột này cần được xử lý.\n",
        "\n",
        "Country:\n",
        "- Các giao dịch đến từ 38 quốc gia khác nhau, với phần lớn các giao dịch (khoảng 91,4%) có nguồn gốc từ Vương quốc Anh."
      ]
    },
    {
      "cell_type": "markdown",
      "metadata": {
        "id": "DtAJT-NmIizL"
      },
      "source": [
        "# **II. Data Processing**"
      ]
    },
    {
      "cell_type": "code",
      "execution_count": 11,
      "metadata": {
        "colab": {
          "base_uri": "https://localhost:8080/",
          "height": 335
        },
        "id": "_F9Ss2c1IhLv",
        "outputId": "6ae90191-7b9f-43ee-fb7d-ca64fafad1ca"
      },
      "outputs": [
        {
          "data": {
            "text/plain": [
              "InvoiceNo       0.000000\n",
              "StockCode       0.000000\n",
              "Description     0.268311\n",
              "Quantity        0.000000\n",
              "InvoiceDate     0.000000\n",
              "UnitPrice       0.000000\n",
              "CustomerID     24.926694\n",
              "Country         0.000000\n",
              "dtype: float64"
            ]
          },
          "execution_count": 11,
          "metadata": {},
          "output_type": "execute_result"
        }
      ],
      "source": [
        "df.isna().sum()/df.shape[0]*100"
      ]
    },
    {
      "cell_type": "code",
      "execution_count": 12,
      "metadata": {
        "colab": {
          "base_uri": "https://localhost:8080/",
          "height": 206
        },
        "id": "6vZ04VsiOk48",
        "outputId": "e705aeff-056d-4bd3-80e8-5d0f551ce16b"
      },
      "outputs": [
        {
          "data": {
            "text/html": [
              "<div>\n",
              "<style scoped>\n",
              "    .dataframe tbody tr th:only-of-type {\n",
              "        vertical-align: middle;\n",
              "    }\n",
              "\n",
              "    .dataframe tbody tr th {\n",
              "        vertical-align: top;\n",
              "    }\n",
              "\n",
              "    .dataframe thead th {\n",
              "        text-align: right;\n",
              "    }\n",
              "</style>\n",
              "<table border=\"1\" class=\"dataframe\">\n",
              "  <thead>\n",
              "    <tr style=\"text-align: right;\">\n",
              "      <th></th>\n",
              "      <th>InvoiceNo</th>\n",
              "      <th>StockCode</th>\n",
              "      <th>Description</th>\n",
              "      <th>Quantity</th>\n",
              "      <th>InvoiceDate</th>\n",
              "      <th>UnitPrice</th>\n",
              "      <th>CustomerID</th>\n",
              "      <th>Country</th>\n",
              "    </tr>\n",
              "  </thead>\n",
              "  <tbody>\n",
              "    <tr>\n",
              "      <th>622</th>\n",
              "      <td>536414</td>\n",
              "      <td>22139</td>\n",
              "      <td>NaN</td>\n",
              "      <td>56</td>\n",
              "      <td>12/1/2010 11:52</td>\n",
              "      <td>0.00</td>\n",
              "      <td>NaN</td>\n",
              "      <td>United Kingdom</td>\n",
              "    </tr>\n",
              "    <tr>\n",
              "      <th>1443</th>\n",
              "      <td>536544</td>\n",
              "      <td>21773</td>\n",
              "      <td>DECORATIVE ROSE BATHROOM BOTTLE</td>\n",
              "      <td>1</td>\n",
              "      <td>12/1/2010 14:32</td>\n",
              "      <td>2.51</td>\n",
              "      <td>NaN</td>\n",
              "      <td>United Kingdom</td>\n",
              "    </tr>\n",
              "    <tr>\n",
              "      <th>1444</th>\n",
              "      <td>536544</td>\n",
              "      <td>21774</td>\n",
              "      <td>DECORATIVE CATS BATHROOM BOTTLE</td>\n",
              "      <td>2</td>\n",
              "      <td>12/1/2010 14:32</td>\n",
              "      <td>2.51</td>\n",
              "      <td>NaN</td>\n",
              "      <td>United Kingdom</td>\n",
              "    </tr>\n",
              "    <tr>\n",
              "      <th>1445</th>\n",
              "      <td>536544</td>\n",
              "      <td>21786</td>\n",
              "      <td>POLKADOT RAIN HAT</td>\n",
              "      <td>4</td>\n",
              "      <td>12/1/2010 14:32</td>\n",
              "      <td>0.85</td>\n",
              "      <td>NaN</td>\n",
              "      <td>United Kingdom</td>\n",
              "    </tr>\n",
              "    <tr>\n",
              "      <th>1446</th>\n",
              "      <td>536544</td>\n",
              "      <td>21787</td>\n",
              "      <td>RAIN PONCHO RETROSPOT</td>\n",
              "      <td>2</td>\n",
              "      <td>12/1/2010 14:32</td>\n",
              "      <td>1.66</td>\n",
              "      <td>NaN</td>\n",
              "      <td>United Kingdom</td>\n",
              "    </tr>\n",
              "  </tbody>\n",
              "</table>\n",
              "</div>"
            ],
            "text/plain": [
              "     InvoiceNo StockCode                      Description  Quantity  \\\n",
              "622     536414     22139                              NaN        56   \n",
              "1443    536544     21773  DECORATIVE ROSE BATHROOM BOTTLE         1   \n",
              "1444    536544     21774  DECORATIVE CATS BATHROOM BOTTLE         2   \n",
              "1445    536544     21786               POLKADOT RAIN HAT          4   \n",
              "1446    536544     21787            RAIN PONCHO RETROSPOT         2   \n",
              "\n",
              "          InvoiceDate  UnitPrice  CustomerID         Country  \n",
              "622   12/1/2010 11:52       0.00         NaN  United Kingdom  \n",
              "1443  12/1/2010 14:32       2.51         NaN  United Kingdom  \n",
              "1444  12/1/2010 14:32       2.51         NaN  United Kingdom  \n",
              "1445  12/1/2010 14:32       0.85         NaN  United Kingdom  \n",
              "1446  12/1/2010 14:32       1.66         NaN  United Kingdom  "
            ]
          },
          "execution_count": 12,
          "metadata": {},
          "output_type": "execute_result"
        }
      ],
      "source": [
        "df[df['CustomerID'].isnull() | df['Description'].isnull()].head()"
      ]
    },
    {
      "cell_type": "markdown",
      "metadata": {
        "id": "XUQYUPP9PWie"
      },
      "source": [
        "- Quá trình phân cụm dựa trên hành vi và sở thích của khách hàng, nên việc có dữ liệu chính xác về mã định danh khách hàng là rất quan trọng. Do đó, việc xóa các hàng có CustomerID bị thiếu có vẻ là cách tiếp cận hợp lý nhất để duy trì tính toàn vẹn của các cụm và quá trình phân tích.\n",
        "- Có sự không nhất quán trong dữ liệu khi cùng một StockCode không phải lúc nào cũng có cùng một Description. Với những sự không nhất quán này, việc tính toán các mô tả bị thiếu dựa trên StockCode có thể không đáng tin cậy. Hơn nữa, vì tỷ lệ phần trăm bị thiếu khá thấp, nên sẽ thận trọng hơn nếu xóa các hàng có Description bị thiếu"
      ]
    },
    {
      "cell_type": "code",
      "execution_count": 13,
      "metadata": {
        "id": "ZLK96oXMP3Hk"
      },
      "outputs": [],
      "source": [
        "df = df.dropna(subset=['CustomerID', 'Description'])"
      ]
    },
    {
      "cell_type": "code",
      "execution_count": 14,
      "metadata": {
        "colab": {
          "base_uri": "https://localhost:8080/"
        },
        "id": "XG2bZxcQP8BT",
        "outputId": "d14c7ba7-69c9-476c-d4fb-a89761f0d7c4"
      },
      "outputs": [
        {
          "data": {
            "text/plain": [
              "np.int64(0)"
            ]
          },
          "execution_count": 14,
          "metadata": {},
          "output_type": "execute_result"
        }
      ],
      "source": [
        "df.isnull().sum().sum()"
      ]
    },
    {
      "cell_type": "code",
      "execution_count": 15,
      "metadata": {
        "colab": {
          "base_uri": "https://localhost:8080/"
        },
        "id": "2mYmeJnVQRrn",
        "outputId": "3c97f10d-dafb-4968-c75b-c3686d7307d0"
      },
      "outputs": [
        {
          "data": {
            "text/plain": [
              "np.int64(5225)"
            ]
          },
          "execution_count": 15,
          "metadata": {},
          "output_type": "execute_result"
        }
      ],
      "source": [
        "df.duplicated().sum()"
      ]
    },
    {
      "cell_type": "code",
      "execution_count": 16,
      "metadata": {
        "id": "IMp4hzyTQYOw"
      },
      "outputs": [],
      "source": [
        "df.drop_duplicates(inplace=True)"
      ]
    },
    {
      "cell_type": "code",
      "execution_count": 17,
      "metadata": {
        "colab": {
          "base_uri": "https://localhost:8080/"
        },
        "id": "1bp6DiYqQbUf",
        "outputId": "1f215413-3455-4293-e8b6-a27c39c39c2a"
      },
      "outputs": [
        {
          "data": {
            "text/plain": [
              "(401604, 8)"
            ]
          },
          "execution_count": 17,
          "metadata": {},
          "output_type": "execute_result"
        }
      ],
      "source": [
        "df.shape"
      ]
    },
    {
      "cell_type": "markdown",
      "metadata": {
        "id": "zk6Mhuf3VpnF"
      },
      "source": [
        "Xác định đến các giao dịch đã bị hủy bằng cách lọc các hàng mà InvoiceNo bắt đầu bằng \"C\"."
      ]
    },
    {
      "cell_type": "code",
      "execution_count": 18,
      "metadata": {
        "id": "Rm-i910IVAX6"
      },
      "outputs": [],
      "source": [
        "df['Transaction_Status'] = np.where(df['InvoiceNo'].astype(str).str.startswith('C'), 'Cancelled', 'Completed')"
      ]
    },
    {
      "cell_type": "code",
      "execution_count": 19,
      "metadata": {
        "colab": {
          "base_uri": "https://localhost:8080/",
          "height": 300
        },
        "id": "kgnTIfA7VgHX",
        "outputId": "114457d6-9b08-4d71-fa4e-a8ec638f823c"
      },
      "outputs": [
        {
          "data": {
            "text/html": [
              "<div>\n",
              "<style scoped>\n",
              "    .dataframe tbody tr th:only-of-type {\n",
              "        vertical-align: middle;\n",
              "    }\n",
              "\n",
              "    .dataframe tbody tr th {\n",
              "        vertical-align: top;\n",
              "    }\n",
              "\n",
              "    .dataframe thead th {\n",
              "        text-align: right;\n",
              "    }\n",
              "</style>\n",
              "<table border=\"1\" class=\"dataframe\">\n",
              "  <thead>\n",
              "    <tr style=\"text-align: right;\">\n",
              "      <th></th>\n",
              "      <th>Quantity</th>\n",
              "      <th>UnitPrice</th>\n",
              "    </tr>\n",
              "  </thead>\n",
              "  <tbody>\n",
              "    <tr>\n",
              "      <th>count</th>\n",
              "      <td>8872.000000</td>\n",
              "      <td>8872.000000</td>\n",
              "    </tr>\n",
              "    <tr>\n",
              "      <th>mean</th>\n",
              "      <td>-30.774910</td>\n",
              "      <td>18.899512</td>\n",
              "    </tr>\n",
              "    <tr>\n",
              "      <th>std</th>\n",
              "      <td>1172.249902</td>\n",
              "      <td>445.190864</td>\n",
              "    </tr>\n",
              "    <tr>\n",
              "      <th>min</th>\n",
              "      <td>-80995.000000</td>\n",
              "      <td>0.010000</td>\n",
              "    </tr>\n",
              "    <tr>\n",
              "      <th>25%</th>\n",
              "      <td>-6.000000</td>\n",
              "      <td>1.450000</td>\n",
              "    </tr>\n",
              "    <tr>\n",
              "      <th>50%</th>\n",
              "      <td>-2.000000</td>\n",
              "      <td>2.950000</td>\n",
              "    </tr>\n",
              "    <tr>\n",
              "      <th>75%</th>\n",
              "      <td>-1.000000</td>\n",
              "      <td>4.950000</td>\n",
              "    </tr>\n",
              "    <tr>\n",
              "      <th>max</th>\n",
              "      <td>-1.000000</td>\n",
              "      <td>38970.000000</td>\n",
              "    </tr>\n",
              "  </tbody>\n",
              "</table>\n",
              "</div>"
            ],
            "text/plain": [
              "           Quantity     UnitPrice\n",
              "count   8872.000000   8872.000000\n",
              "mean     -30.774910     18.899512\n",
              "std     1172.249902    445.190864\n",
              "min   -80995.000000      0.010000\n",
              "25%       -6.000000      1.450000\n",
              "50%       -2.000000      2.950000\n",
              "75%       -1.000000      4.950000\n",
              "max       -1.000000  38970.000000"
            ]
          },
          "execution_count": 19,
          "metadata": {},
          "output_type": "execute_result"
        }
      ],
      "source": [
        "cancelled_transactions = df[df['Transaction_Status'] == 'Cancelled']\n",
        "cancelled_transactions.describe().drop('CustomerID', axis=1)"
      ]
    },
    {
      "cell_type": "markdown",
      "metadata": {
        "id": "AkCv6ruWXLNm"
      },
      "source": [
        "- Tất cả số lượng trong các giao dịch bị hủy đều là số âm, cho biết đây thực sự là các đơn hàng đã bị hủy.\n",
        "- Cột UnitPrice có mức chênh lệch đáng kể, cho thấy nhiều loại sản phẩm, từ giá trị thấp đến cao, đều là một phần của các giao dịch bị hủy."
      ]
    },
    {
      "cell_type": "code",
      "execution_count": 20,
      "metadata": {
        "id": "B3DSvkJF2RJ1"
      },
      "outputs": [],
      "source": [
        "df.loc[df['Quantity'] < 0, 'Quantity'] = 0"
      ]
    },
    {
      "cell_type": "code",
      "execution_count": 21,
      "metadata": {
        "colab": {
          "base_uri": "https://localhost:8080/"
        },
        "id": "yrDRtb3JXUq9",
        "outputId": "c9c66e9f-a6f5-4d55-afb7-0077ec31e508"
      },
      "outputs": [
        {
          "name": "stdout",
          "output_type": "stream",
          "text": [
            "2.209141343213713\n"
          ]
        }
      ],
      "source": [
        "cancelled_percentage = (cancelled_transactions.shape[0] / df.shape[0]) * 100\n",
        "\n",
        "print(cancelled_percentage)"
      ]
    },
    {
      "cell_type": "code",
      "execution_count": 22,
      "metadata": {
        "id": "UlpxN4DTDe5s"
      },
      "outputs": [],
      "source": [
        "# xóa các bản ghi là cancel\n",
        "df = df[df['Transaction_Status'] == 'Completed']"
      ]
    },
    {
      "cell_type": "code",
      "execution_count": 23,
      "metadata": {
        "colab": {
          "base_uri": "https://localhost:8080/"
        },
        "id": "510Kzg-UfNDp",
        "outputId": "eb9e5177-180d-4a6d-abcd-01e9d5d3b299"
      },
      "outputs": [
        {
          "name": "stdout",
          "output_type": "stream",
          "text": [
            "5    3659\n",
            "0       5\n",
            "1       1\n",
            "Name: count, dtype: int64\n"
          ]
        }
      ],
      "source": [
        "unique_stock_codes = df['StockCode'].unique()\n",
        "numeric_char_counts_in_unique_codes = pd.Series(unique_stock_codes).apply(lambda x: sum(c.isdigit() for c in str(x))).value_counts()\n",
        "\n",
        "print(numeric_char_counts_in_unique_codes)"
      ]
    },
    {
      "cell_type": "code",
      "execution_count": 24,
      "metadata": {
        "colab": {
          "base_uri": "https://localhost:8080/"
        },
        "id": "6i6PgJPxfWXa",
        "outputId": "d2fc1917-571e-4e51-d764-3d637790f5ed"
      },
      "outputs": [
        {
          "name": "stdout",
          "output_type": "stream",
          "text": [
            "POST\n",
            "C2\n",
            "M\n",
            "BANK CHARGES\n",
            "PADS\n",
            "DOT\n"
          ]
        }
      ],
      "source": [
        "anomalous_stock_codes = [code for code in unique_stock_codes if sum(c.isdigit() for c in str(code)) in (0, 1)]\n",
        "\n",
        "for code in anomalous_stock_codes:\n",
        "    print(code)"
      ]
    },
    {
      "cell_type": "markdown",
      "metadata": {
        "id": "3X2IEyBVfkd1"
      },
      "source": [
        "- Phần lớn các mã chứa đúng 5 ký tự số, có vẻ như đây là định dạng chuẩn để biểu diễn mã sản phẩm trong tập dữ liệu này.\n",
        "- 7 mã  không chứa ký tự số và 1 mã chứng khoán chỉ chứa 1 ký tự số.\n",
        "- Các mã này có vẻ đại diện cho các giao dịch không phải sản phẩm như \"BANK CHARGES\", \"POST\" (có thể là phí bưu chính)\n",
        "- Loại trừ những bản ghi có mã bất thường này khỏi tập dữ liệu."
      ]
    },
    {
      "cell_type": "code",
      "execution_count": 25,
      "metadata": {
        "id": "i1kWoBRigK6C"
      },
      "outputs": [],
      "source": [
        "df = df[~df['StockCode'].isin(anomalous_stock_codes)]"
      ]
    },
    {
      "cell_type": "code",
      "execution_count": 26,
      "metadata": {
        "colab": {
          "base_uri": "https://localhost:8080/",
          "height": 335
        },
        "id": "v_oQIHA9goP5",
        "outputId": "56b230af-5330-41c1-8d9b-3ec2b9200410"
      },
      "outputs": [
        {
          "data": {
            "text/plain": [
              "count    391183.000000\n",
              "mean          2.874130\n",
              "std           4.284639\n",
              "min           0.000000\n",
              "25%           1.250000\n",
              "50%           1.950000\n",
              "75%           3.750000\n",
              "max         649.500000\n",
              "Name: UnitPrice, dtype: float64"
            ]
          },
          "execution_count": 26,
          "metadata": {},
          "output_type": "execute_result"
        }
      ],
      "source": [
        "df['UnitPrice'].describe()"
      ]
    },
    {
      "cell_type": "code",
      "execution_count": 27,
      "metadata": {
        "id": "mUcm4_ipg4JB"
      },
      "outputs": [],
      "source": [
        "df = df[df['UnitPrice'] > 0]"
      ]
    },
    {
      "cell_type": "markdown",
      "metadata": {
        "id": "RV4i5ci5hGZj"
      },
      "source": [
        "**Tính RFM**"
      ]
    },
    {
      "cell_type": "code",
      "execution_count": 28,
      "metadata": {
        "id": "yRm-yEaXhK_N"
      },
      "outputs": [],
      "source": [
        "df['InvoiceDate'] = pd.to_datetime(df['InvoiceDate'])\n",
        "df['InvoiceDay'] = df['InvoiceDate'].dt.date\n",
        "\n",
        "customer_data = df.groupby('CustomerID')['InvoiceDay'].max().reset_index()\n",
        "most_recent_date = df['InvoiceDay'].max()\n",
        "\n",
        "customer_data['InvoiceDay'] = pd.to_datetime(customer_data['InvoiceDay'])\n",
        "most_recent_date = pd.to_datetime(most_recent_date)\n",
        "\n",
        "customer_data['Recency'] = (most_recent_date - customer_data['InvoiceDay']).dt.days\n",
        "\n",
        "customer_data.drop(columns=['InvoiceDay'], inplace=True)"
      ]
    },
    {
      "cell_type": "code",
      "execution_count": 29,
      "metadata": {
        "id": "hk7d-9AbigHo"
      },
      "outputs": [],
      "source": [
        "total_transactions = df.groupby('CustomerID')['InvoiceNo'].nunique().reset_index()\n",
        "total_transactions.rename(columns={'InvoiceNo': 'Frequency'}, inplace=True)\n",
        "\n",
        "customer_data = pd.merge(customer_data, total_transactions, on='CustomerID')"
      ]
    },
    {
      "cell_type": "code",
      "execution_count": 30,
      "metadata": {
        "id": "OxMFnyNzjz0Y"
      },
      "outputs": [],
      "source": [
        "df['Monetary'] = df['UnitPrice'] * df['Quantity']\n",
        "total_spend = df.groupby('CustomerID')['Monetary'].sum().reset_index()\n",
        "\n",
        "customer_data = pd.merge(customer_data, total_spend, on='CustomerID')"
      ]
    },
    {
      "cell_type": "code",
      "execution_count": 31,
      "metadata": {
        "colab": {
          "base_uri": "https://localhost:8080/",
          "height": 206
        },
        "id": "LqaSZgDuklUc",
        "outputId": "9f795805-eeca-419d-a1a8-652465a4ebef"
      },
      "outputs": [
        {
          "data": {
            "text/html": [
              "<div>\n",
              "<style scoped>\n",
              "    .dataframe tbody tr th:only-of-type {\n",
              "        vertical-align: middle;\n",
              "    }\n",
              "\n",
              "    .dataframe tbody tr th {\n",
              "        vertical-align: top;\n",
              "    }\n",
              "\n",
              "    .dataframe thead th {\n",
              "        text-align: right;\n",
              "    }\n",
              "</style>\n",
              "<table border=\"1\" class=\"dataframe\">\n",
              "  <thead>\n",
              "    <tr style=\"text-align: right;\">\n",
              "      <th></th>\n",
              "      <th>CustomerID</th>\n",
              "      <th>Recency</th>\n",
              "      <th>Frequency</th>\n",
              "      <th>Monetary</th>\n",
              "    </tr>\n",
              "  </thead>\n",
              "  <tbody>\n",
              "    <tr>\n",
              "      <th>0</th>\n",
              "      <td>12346.0</td>\n",
              "      <td>325</td>\n",
              "      <td>1</td>\n",
              "      <td>77183.60</td>\n",
              "    </tr>\n",
              "    <tr>\n",
              "      <th>1</th>\n",
              "      <td>12347.0</td>\n",
              "      <td>2</td>\n",
              "      <td>7</td>\n",
              "      <td>4310.00</td>\n",
              "    </tr>\n",
              "    <tr>\n",
              "      <th>2</th>\n",
              "      <td>12348.0</td>\n",
              "      <td>75</td>\n",
              "      <td>4</td>\n",
              "      <td>1437.24</td>\n",
              "    </tr>\n",
              "    <tr>\n",
              "      <th>3</th>\n",
              "      <td>12349.0</td>\n",
              "      <td>18</td>\n",
              "      <td>1</td>\n",
              "      <td>1457.55</td>\n",
              "    </tr>\n",
              "    <tr>\n",
              "      <th>4</th>\n",
              "      <td>12350.0</td>\n",
              "      <td>310</td>\n",
              "      <td>1</td>\n",
              "      <td>294.40</td>\n",
              "    </tr>\n",
              "  </tbody>\n",
              "</table>\n",
              "</div>"
            ],
            "text/plain": [
              "   CustomerID  Recency  Frequency  Monetary\n",
              "0     12346.0      325          1  77183.60\n",
              "1     12347.0        2          7   4310.00\n",
              "2     12348.0       75          4   1437.24\n",
              "3     12349.0       18          1   1457.55\n",
              "4     12350.0      310          1    294.40"
            ]
          },
          "execution_count": 31,
          "metadata": {},
          "output_type": "execute_result"
        }
      ],
      "source": [
        "customer_data.head()"
      ]
    },
    {
      "cell_type": "code",
      "execution_count": 32,
      "metadata": {
        "id": "bdCBlECmANe1"
      },
      "outputs": [],
      "source": [
        "customer_data.drop(columns=['CustomerID'], inplace=True)"
      ]
    },
    {
      "cell_type": "code",
      "execution_count": 33,
      "metadata": {
        "colab": {
          "base_uri": "https://localhost:8080/"
        },
        "id": "PHI5zFin52KN",
        "outputId": "f39c4d22-6377-4293-c2ed-d796f274ad6b"
      },
      "outputs": [
        {
          "name": "stdout",
          "output_type": "stream",
          "text": [
            "Requirement already satisfied: scikit-learn in c:\\users\\loq\\appdata\\local\\programs\\python\\python313\\lib\\site-packages (1.6.1)\n",
            "Requirement already satisfied: numpy>=1.19.5 in c:\\users\\loq\\appdata\\local\\programs\\python\\python313\\lib\\site-packages (from scikit-learn) (2.1.2)\n",
            "Requirement already satisfied: scipy>=1.6.0 in c:\\users\\loq\\appdata\\local\\programs\\python\\python313\\lib\\site-packages (from scikit-learn) (1.15.2)\n",
            "Requirement already satisfied: joblib>=1.2.0 in c:\\users\\loq\\appdata\\local\\programs\\python\\python313\\lib\\site-packages (from scikit-learn) (1.4.2)\n",
            "Requirement already satisfied: threadpoolctl>=3.1.0 in c:\\users\\loq\\appdata\\local\\programs\\python\\python313\\lib\\site-packages (from scikit-learn) (3.5.0)\n"
          ]
        },
        {
          "name": "stderr",
          "output_type": "stream",
          "text": [
            "\n",
            "[notice] A new release of pip is available: 24.2 -> 25.1.1\n",
            "[notice] To update, run: python.exe -m pip install --upgrade pip\n"
          ]
        }
      ],
      "source": [
        "!pip install scikit-learn\n",
        "from sklearn.ensemble import IsolationForest"
      ]
    },
    {
      "cell_type": "code",
      "execution_count": 34,
      "metadata": {
        "id": "T-0VIC2v5xWt"
      },
      "outputs": [],
      "source": [
        "model = IsolationForest(contamination=0.05, random_state=0)\n",
        "\n",
        "customer_data['Outlier_Scores'] = model.fit_predict(customer_data.iloc[:, 1:].to_numpy())\n",
        "\n",
        "customer_data['Is_Outlier'] = [1 if x == -1 else 0 for x in customer_data['Outlier_Scores']]"
      ]
    },
    {
      "cell_type": "code",
      "execution_count": 35,
      "metadata": {
        "id": "S4LzHvbA6D-8"
      },
      "outputs": [],
      "source": [
        "outliers_data = customer_data[customer_data['Is_Outlier'] == 1]\n",
        "\n",
        "customer_data_cleaned = customer_data[customer_data['Is_Outlier'] == 0]\n",
        "\n",
        "customer_data_cleaned = customer_data_cleaned.drop(columns=['Outlier_Scores', 'Is_Outlier'])\n",
        "customer_data_cleaned.reset_index(drop=True, inplace=True)"
      ]
    },
    {
      "cell_type": "code",
      "execution_count": 37,
      "metadata": {
        "id": "YLLiDXZ1qVTK"
      },
      "outputs": [],
      "source": [
        "from sklearn.preprocessing import StandardScaler\n",
        "from sklearn.cluster import KMeans"
      ]
    },
    {
      "cell_type": "code",
      "execution_count": 38,
      "metadata": {
        "id": "fHgmJz0NoC-C"
      },
      "outputs": [],
      "source": [
        "scaler = StandardScaler()\n",
        "customer_data_scaled = scaler.fit_transform(customer_data_cleaned)"
      ]
    },
    {
      "cell_type": "code",
      "execution_count": 39,
      "metadata": {
        "id": "b-zjbnQQ_2gA"
      },
      "outputs": [],
      "source": [
        "from sklearn.metrics import silhouette_score"
      ]
    },
    {
      "cell_type": "markdown",
      "metadata": {
        "id": "u7MNDw01r2AX"
      },
      "source": [
        "# **III. Model**"
      ]
    },
    {
      "cell_type": "markdown",
      "metadata": {
        "id": "RlmHUfqE-0sA"
      },
      "source": [
        "## 1. Kmeans"
      ]
    },
    {
      "cell_type": "code",
      "execution_count": 41,
      "metadata": {
        "colab": {
          "base_uri": "https://localhost:8080/",
          "height": 472
        },
        "id": "SWNPEnwCqfqp",
        "outputId": "7a2a8fba-9e0f-4b86-f81b-27655988f498"
      },
      "outputs": [
        {
          "data": {
            "image/png": "[encoded data removed]",
            "text/plain": [
              "<Figure size 640x480 with 1 Axes>"
            ]
          },
          "metadata": {},
          "output_type": "display_data"
        }
      ],
      "source": [
        "sse = {}\n",
        "for k in range(1, 11):\n",
        "    kmeans = KMeans(n_clusters=k, random_state=42)\n",
        "    kmeans.fit(customer_data_scaled)\n",
        "    sse[k] = kmeans.inertia_\n",
        "\n",
        "plt.title('The Elbow Method')\n",
        "plt.xlabel('k')\n",
        "plt.ylabel('SSE')\n",
        "sns.pointplot(x=list(sse.keys()), y=list(sse.values()))\n",
        "plt.show()\n"
      ]
    },
    {
      "cell_type": "code",
      "execution_count": 42,
      "metadata": {
        "colab": {
          "base_uri": "https://localhost:8080/",
          "height": 80
        },
        "id": "LyxC3tpYrlm7",
        "outputId": "c535cdff-561b-469a-eb00-8a8beea61bca"
      },
      "outputs": [
        {
          "data": {
            "text/html": [
              "<style>#sk-container-id-1 {\n",
              "  /* Definition of color scheme common for light and dark mode */\n",
              "  --sklearn-color-text: #000;\n",
              "  --sklearn-color-text-muted: #666;\n",
              "  --sklearn-color-line: gray;\n",
              "  /* Definition of color scheme for unfitted estimators */\n",
              "  --sklearn-color-unfitted-level-0: #fff5e6;\n",
              "  --sklearn-color-unfitted-level-1: #f6e4d2;\n",
              "  --sklearn-color-unfitted-level-2: #ffe0b3;\n",
              "  --sklearn-color-unfitted-level-3: chocolate;\n",
              "  /* Definition of color scheme for fitted estimators */\n",
              "  --sklearn-color-fitted-level-0: #f0f8ff;\n",
              "  --sklearn-color-fitted-level-1: #d4ebff;\n",
              "  --sklearn-color-fitted-level-2: #b3dbfd;\n",
              "  --sklearn-color-fitted-level-3: cornflowerblue;\n",
              "\n",
              "  /* Specific color for light theme */\n",
              "  --sklearn-color-text-on-default-background: var(--sg-text-color, var(--theme-code-foreground, var(--jp-content-font-color1, black)));\n",
              "  --sklearn-color-background: var(--sg-background-color, var(--theme-background, var(--jp-layout-color0, white)));\n",
              "  --sklearn-color-border-box: var(--sg-text-color, var(--theme-code-foreground, var(--jp-content-font-color1, black)));\n",
              "  --sklearn-color-icon: #696969;\n",
              "\n",
              "  @media (prefers-color-scheme: dark) {\n",
              "    /* Redefinition of color scheme for dark theme */\n",
              "    --sklearn-color-text-on-default-background: var(--sg-text-color, var(--theme-code-foreground, var(--jp-content-font-color1, white)));\n",
              "    --sklearn-color-background: var(--sg-background-color, var(--theme-background, var(--jp-layout-color0, #111)));\n",
              "    --sklearn-color-border-box: var(--sg-text-color, var(--theme-code-foreground, var(--jp-content-font-color1, white)));\n",
              "    --sklearn-color-icon: #878787;\n",
              "  }\n",
              "}\n",
              "\n",
              "#sk-container-id-1 {\n",
              "  color: var(--sklearn-color-text);\n",
              "}\n",
              "\n",
              "#sk-container-id-1 pre {\n",
              "  padding: 0;\n",
              "}\n",
              "\n",
              "#sk-container-id-1 input.sk-hidden--visually {\n",
              "  border: 0;\n",
              "  clip: rect(1px 1px 1px 1px);\n",
              "  clip: rect(1px, 1px, 1px, 1px);\n",
              "  height: 1px;\n",
              "  margin: -1px;\n",
              "  overflow: hidden;\n",
              "  padding: 0;\n",
              "  position: absolute;\n",
              "  width: 1px;\n",
              "}\n",
              "\n",
              "#sk-container-id-1 div.sk-dashed-wrapped {\n",
              "  border: 1px dashed var(--sklearn-color-line);\n",
              "  margin: 0 0.4em 0.5em 0.4em;\n",
              "  box-sizing: border-box;\n",
              "  padding-bottom: 0.4em;\n",
              "  background-color: var(--sklearn-color-background);\n",
              "}\n",
              "\n",
              "#sk-container-id-1 div.sk-container {\n",
              "  /* jupyter's `normalize.less` sets `[hidden] { display: none; }`\n",
              "     but bootstrap.min.css set `[hidden] { display: none !important; }`\n",
              "     so we also need the `!important` here to be able to override the\n",
              "     default hidden behavior on the sphinx rendered scikit-learn.org.\n",
              "     See: https://github.com/scikit-learn/scikit-learn/issues/21755 */\n",
              "  display: inline-block !important;\n",
              "  position: relative;\n",
              "}\n",
              "\n",
              "#sk-container-id-1 div.sk-text-repr-fallback {\n",
              "  display: none;\n",
              "}\n",
              "\n",
              "div.sk-parallel-item,\n",
              "div.sk-serial,\n",
              "div.sk-item {\n",
              "  /* draw centered vertical line to link estimators */\n",
              "  background-image: linear-gradient(var(--sklearn-color-text-on-default-background), var(--sklearn-color-text-on-default-background));\n",
              "  background-size: 2px 100%;\n",
              "  background-repeat: no-repeat;\n",
              "  background-position: center center;\n",
              "}\n",
              "\n",
              "/* Parallel-specific style estimator block */\n",
              "\n",
              "#sk-container-id-1 div.sk-parallel-item::after {\n",
              "  content: \"\";\n",
              "  width: 100%;\n",
              "  border-bottom: 2px solid var(--sklearn-color-text-on-default-background);\n",
              "  flex-grow: 1;\n",
              "}\n",
              "\n",
              "#sk-container-id-1 div.sk-parallel {\n",
              "  display: flex;\n",
              "  align-items: stretch;\n",
              "  justify-content: center;\n",
              "  background-color: var(--sklearn-color-background);\n",
              "  position: relative;\n",
              "}\n",
              "\n",
              "#sk-container-id-1 div.sk-parallel-item {\n",
              "  display: flex;\n",
              "  flex-direction: column;\n",
              "}\n",
              "\n",
              "#sk-container-id-1 div.sk-parallel-item:first-child::after {\n",
              "  align-self: flex-end;\n",
              "  width: 50%;\n",
              "}\n",
              "\n",
              "#sk-container-id-1 div.sk-parallel-item:last-child::after {\n",
              "  align-self: flex-start;\n",
              "  width: 50%;\n",
              "}\n",
              "\n",
              "#sk-container-id-1 div.sk-parallel-item:only-child::after {\n",
              "  width: 0;\n",
              "}\n",
              "\n",
              "/* Serial-specific style estimator block */\n",
              "\n",
              "#sk-container-id-1 div.sk-serial {\n",
              "  display: flex;\n",
              "  flex-direction: column;\n",
              "  align-items: center;\n",
              "  background-color: var(--sklearn-color-background);\n",
              "  padding-right: 1em;\n",
              "  padding-left: 1em;\n",
              "}\n",
              "\n",
              "\n",
              "/* Toggleable style: style used for estimator/Pipeline/ColumnTransformer box that is\n",
              "clickable and can be expanded/collapsed.\n",
              "- Pipeline and ColumnTransformer use this feature and define the default style\n",
              "- Estimators will overwrite some part of the style using the `sk-estimator` class\n",
              "*/\n",
              "\n",
              "/* Pipeline and ColumnTransformer style (default) */\n",
              "\n",
              "#sk-container-id-1 div.sk-toggleable {\n",
              "  /* Default theme specific background. It is overwritten whether we have a\n",
              "  specific estimator or a Pipeline/ColumnTransformer */\n",
              "  background-color: var(--sklearn-color-background);\n",
              "}\n",
              "\n",
              "/* Toggleable label */\n",
              "#sk-container-id-1 label.sk-toggleable__label {\n",
              "  cursor: pointer;\n",
              "  display: flex;\n",
              "  width: 100%;\n",
              "  margin-bottom: 0;\n",
              "  padding: 0.5em;\n",
              "  box-sizing: border-box;\n",
              "  text-align: center;\n",
              "  align-items: start;\n",
              "  justify-content: space-between;\n",
              "  gap: 0.5em;\n",
              "}\n",
              "\n",
              "#sk-container-id-1 label.sk-toggleable__label .caption {\n",
              "  font-size: 0.6rem;\n",
              "  font-weight: lighter;\n",
              "  color: var(--sklearn-color-text-muted);\n",
              "}\n",
              "\n",
              "#sk-container-id-1 label.sk-toggleable__label-arrow:before {\n",
              "  /* Arrow on the left of the label */\n",
              "  content: \"▸\";\n",
              "  float: left;\n",
              "  margin-right: 0.25em;\n",
              "  color: var(--sklearn-color-icon);\n",
              "}\n",
              "\n",
              "#sk-container-id-1 label.sk-toggleable__label-arrow:hover:before {\n",
              "  color: var(--sklearn-color-text);\n",
              "}\n",
              "\n",
              "/* Toggleable content - dropdown */\n",
              "\n",
              "#sk-container-id-1 div.sk-toggleable__content {\n",
              "  max-height: 0;\n",
              "  max-width: 0;\n",
              "  overflow: hidden;\n",
              "  text-align: left;\n",
              "  /* unfitted */\n",
              "  background-color: var(--sklearn-color-unfitted-level-0);\n",
              "}\n",
              "\n",
              "#sk-container-id-1 div.sk-toggleable__content.fitted {\n",
              "  /* fitted */\n",
              "  background-color: var(--sklearn-color-fitted-level-0);\n",
              "}\n",
              "\n",
              "#sk-container-id-1 div.sk-toggleable__content pre {\n",
              "  margin: 0.2em;\n",
              "  border-radius: 0.25em;\n",
              "  color: var(--sklearn-color-text);\n",
              "  /* unfitted */\n",
              "  background-color: var(--sklearn-color-unfitted-level-0);\n",
              "}\n",
              "\n",
              "#sk-container-id-1 div.sk-toggleable__content.fitted pre {\n",
              "  /* unfitted */\n",
              "  background-color: var(--sklearn-color-fitted-level-0);\n",
              "}\n",
              "\n",
              "#sk-container-id-1 input.sk-toggleable__control:checked~div.sk-toggleable__content {\n",
              "  /* Expand drop-down */\n",
              "  max-height: 200px;\n",
              "  max-width: 100%;\n",
              "  overflow: auto;\n",
              "}\n",
              "\n",
              "#sk-container-id-1 input.sk-toggleable__control:checked~label.sk-toggleable__label-arrow:before {\n",
              "  content: \"▾\";\n",
              "}\n",
              "\n",
              "/* Pipeline/ColumnTransformer-specific style */\n",
              "\n",
              "#sk-container-id-1 div.sk-label input.sk-toggleable__control:checked~label.sk-toggleable__label {\n",
              "  color: var(--sklearn-color-text);\n",
              "  background-color: var(--sklearn-color-unfitted-level-2);\n",
              "}\n",
              "\n",
              "#sk-container-id-1 div.sk-label.fitted input.sk-toggleable__control:checked~label.sk-toggleable__label {\n",
              "  background-color: var(--sklearn-color-fitted-level-2);\n",
              "}\n",
              "\n",
              "/* Estimator-specific style */\n",
              "\n",
              "/* Colorize estimator box */\n",
              "#sk-container-id-1 div.sk-estimator input.sk-toggleable__control:checked~label.sk-toggleable__label {\n",
              "  /* unfitted */\n",
              "  background-color: var(--sklearn-color-unfitted-level-2);\n",
              "}\n",
              "\n",
              "#sk-container-id-1 div.sk-estimator.fitted input.sk-toggleable__control:checked~label.sk-toggleable__label {\n",
              "  /* fitted */\n",
              "  background-color: var(--sklearn-color-fitted-level-2);\n",
              "}\n",
              "\n",
              "#sk-container-id-1 div.sk-label label.sk-toggleable__label,\n",
              "#sk-container-id-1 div.sk-label label {\n",
              "  /* The background is the default theme color */\n",
              "  color: var(--sklearn-color-text-on-default-background);\n",
              "}\n",
              "\n",
              "/* On hover, darken the color of the background */\n",
              "#sk-container-id-1 div.sk-label:hover label.sk-toggleable__label {\n",
              "  color: var(--sklearn-color-text);\n",
              "  background-color: var(--sklearn-color-unfitted-level-2);\n",
              "}\n",
              "\n",
              "/* Label box, darken color on hover, fitted */\n",
              "#sk-container-id-1 div.sk-label.fitted:hover label.sk-toggleable__label.fitted {\n",
              "  color: var(--sklearn-color-text);\n",
              "  background-color: var(--sklearn-color-fitted-level-2);\n",
              "}\n",
              "\n",
              "/* Estimator label */\n",
              "\n",
              "#sk-container-id-1 div.sk-label label {\n",
              "  font-family: monospace;\n",
              "  font-weight: bold;\n",
              "  display: inline-block;\n",
              "  line-height: 1.2em;\n",
              "}\n",
              "\n",
              "#sk-container-id-1 div.sk-label-container {\n",
              "  text-align: center;\n",
              "}\n",
              "\n",
              "/* Estimator-specific */\n",
              "#sk-container-id-1 div.sk-estimator {\n",
              "  font-family: monospace;\n",
              "  border: 1px dotted var(--sklearn-color-border-box);\n",
              "  border-radius: 0.25em;\n",
              "  box-sizing: border-box;\n",
              "  margin-bottom: 0.5em;\n",
              "  /* unfitted */\n",
              "  background-color: var(--sklearn-color-unfitted-level-0);\n",
              "}\n",
              "\n",
              "#sk-container-id-1 div.sk-estimator.fitted {\n",
              "  /* fitted */\n",
              "  background-color: var(--sklearn-color-fitted-level-0);\n",
              "}\n",
              "\n",
              "/* on hover */\n",
              "#sk-container-id-1 div.sk-estimator:hover {\n",
              "  /* unfitted */\n",
              "  background-color: var(--sklearn-color-unfitted-level-2);\n",
              "}\n",
              "\n",
              "#sk-container-id-1 div.sk-estimator.fitted:hover {\n",
              "  /* fitted */\n",
              "  background-color: var(--sklearn-color-fitted-level-2);\n",
              "}\n",
              "\n",
              "/* Specification for estimator info (e.g. \"i\" and \"?\") */\n",
              "\n",
              "/* Common style for \"i\" and \"?\" */\n",
              "\n",
              ".sk-estimator-doc-link,\n",
              "a:link.sk-estimator-doc-link,\n",
              "a:visited.sk-estimator-doc-link {\n",
              "  float: right;\n",
              "  font-size: smaller;\n",
              "  line-height: 1em;\n",
              "  font-family: monospace;\n",
              "  background-color: var(--sklearn-color-background);\n",
              "  border-radius: 1em;\n",
              "  height: 1em;\n",
              "  width: 1em;\n",
              "  text-decoration: none !important;\n",
              "  margin-left: 0.5em;\n",
              "  text-align: center;\n",
              "  /* unfitted */\n",
              "  border: var(--sklearn-color-unfitted-level-1) 1pt solid;\n",
              "  color: var(--sklearn-color-unfitted-level-1);\n",
              "}\n",
              "\n",
              ".sk-estimator-doc-link.fitted,\n",
              "a:link.sk-estimator-doc-link.fitted,\n",
              "a:visited.sk-estimator-doc-link.fitted {\n",
              "  /* fitted */\n",
              "  border: var(--sklearn-color-fitted-level-1) 1pt solid;\n",
              "  color: var(--sklearn-color-fitted-level-1);\n",
              "}\n",
              "\n",
              "/* On hover */\n",
              "div.sk-estimator:hover .sk-estimator-doc-link:hover,\n",
              ".sk-estimator-doc-link:hover,\n",
              "div.sk-label-container:hover .sk-estimator-doc-link:hover,\n",
              ".sk-estimator-doc-link:hover {\n",
              "  /* unfitted */\n",
              "  background-color: var(--sklearn-color-unfitted-level-3);\n",
              "  color: var(--sklearn-color-background);\n",
              "  text-decoration: none;\n",
              "}\n",
              "\n",
              "div.sk-estimator.fitted:hover .sk-estimator-doc-link.fitted:hover,\n",
              ".sk-estimator-doc-link.fitted:hover,\n",
              "div.sk-label-container:hover .sk-estimator-doc-link.fitted:hover,\n",
              ".sk-estimator-doc-link.fitted:hover {\n",
              "  /* fitted */\n",
              "  background-color: var(--sklearn-color-fitted-level-3);\n",
              "  color: var(--sklearn-color-background);\n",
              "  text-decoration: none;\n",
              "}\n",
              "\n",
              "/* Span, style for the box shown on hovering the info icon */\n",
              ".sk-estimator-doc-link span {\n",
              "  display: none;\n",
              "  z-index: 9999;\n",
              "  position: relative;\n",
              "  font-weight: normal;\n",
              "  right: .2ex;\n",
              "  padding: .5ex;\n",
              "  margin: .5ex;\n",
              "  width: min-content;\n",
              "  min-width: 20ex;\n",
              "  max-width: 50ex;\n",
              "  color: var(--sklearn-color-text);\n",
              "  box-shadow: 2pt 2pt 4pt #999;\n",
              "  /* unfitted */\n",
              "  background: var(--sklearn-color-unfitted-level-0);\n",
              "  border: .5pt solid var(--sklearn-color-unfitted-level-3);\n",
              "}\n",
              "\n",
              ".sk-estimator-doc-link.fitted span {\n",
              "  /* fitted */\n",
              "  background: var(--sklearn-color-fitted-level-0);\n",
              "  border: var(--sklearn-color-fitted-level-3);\n",
              "}\n",
              "\n",
              ".sk-estimator-doc-link:hover span {\n",
              "  display: block;\n",
              "}\n",
              "\n",
              "/* \"?\"-specific style due to the `<a>` HTML tag */\n",
              "\n",
              "#sk-container-id-1 a.estimator_doc_link {\n",
              "  float: right;\n",
              "  font-size: 1rem;\n",
              "  line-height: 1em;\n",
              "  font-family: monospace;\n",
              "  background-color: var(--sklearn-color-background);\n",
              "  border-radius: 1rem;\n",
              "  height: 1rem;\n",
              "  width: 1rem;\n",
              "  text-decoration: none;\n",
              "  /* unfitted */\n",
              "  color: var(--sklearn-color-unfitted-level-1);\n",
              "  border: var(--sklearn-color-unfitted-level-1) 1pt solid;\n",
              "}\n",
              "\n",
              "#sk-container-id-1 a.estimator_doc_link.fitted {\n",
              "  /* fitted */\n",
              "  border: var(--sklearn-color-fitted-level-1) 1pt solid;\n",
              "  color: var(--sklearn-color-fitted-level-1);\n",
              "}\n",
              "\n",
              "/* On hover */\n",
              "#sk-container-id-1 a.estimator_doc_link:hover {\n",
              "  /* unfitted */\n",
              "  background-color: var(--sklearn-color-unfitted-level-3);\n",
              "  color: var(--sklearn-color-background);\n",
              "  text-decoration: none;\n",
              "}\n",
              "\n",
              "#sk-container-id-1 a.estimator_doc_link.fitted:hover {\n",
              "  /* fitted */\n",
              "  background-color: var(--sklearn-color-fitted-level-3);\n",
              "}\n",
              "</style><div id=\"sk-container-id-1\" class=\"sk-top-container\"><div class=\"sk-text-repr-fallback\"><pre>KMeans(max_iter=100, n_clusters=3, n_init=10, random_state=42)</pre><b>In a Jupyter environment, please rerun this cell to show the HTML representation or trust the notebook. <br />On GitHub, the HTML representation is unable to render, please try loading this page with nbviewer.org.</b></div><div class=\"sk-container\" hidden><div class=\"sk-item\"><div class=\"sk-estimator fitted sk-toggleable\"><input class=\"sk-toggleable__control sk-hidden--visually\" id=\"sk-estimator-id-1\" type=\"checkbox\" checked><label for=\"sk-estimator-id-1\" class=\"sk-toggleable__label fitted sk-toggleable__label-arrow\"><div><div>KMeans</div></div><div><a class=\"sk-estimator-doc-link fitted\" rel=\"noreferrer\" target=\"_blank\" href=\"https://scikit-learn.org/1.6/modules/generated/sklearn.cluster.KMeans.html\">?<span>Documentation for KMeans</span></a><span class=\"sk-estimator-doc-link fitted\">i<span>Fitted</span></span></div></label><div class=\"sk-toggleable__content fitted\"><pre>KMeans(max_iter=100, n_clusters=3, n_init=10, random_state=42)</pre></div> </div></div></div></div>"
            ],
            "text/plain": [
              "KMeans(max_iter=100, n_clusters=3, n_init=10, random_state=42)"
            ]
          },
          "execution_count": 42,
          "metadata": {},
          "output_type": "execute_result"
        }
      ],
      "source": [
        "Kmodel = KMeans(n_clusters=3, init='k-means++', max_iter=100, n_init=10 ,random_state=42)\n",
        "Kmodel.fit(customer_data_scaled)"
      ]
    },
    {
      "cell_type": "code",
      "execution_count": 43,
      "metadata": {
        "colab": {
          "base_uri": "https://localhost:8080/",
          "height": 206
        },
        "id": "AcqxFXLCsH_E",
        "outputId": "b1ca70da-c294-485a-fa78-319bd3598469"
      },
      "outputs": [
        {
          "data": {
            "text/html": [
              "<div>\n",
              "<style scoped>\n",
              "    .dataframe tbody tr th:only-of-type {\n",
              "        vertical-align: middle;\n",
              "    }\n",
              "\n",
              "    .dataframe tbody tr th {\n",
              "        vertical-align: top;\n",
              "    }\n",
              "\n",
              "    .dataframe thead th {\n",
              "        text-align: right;\n",
              "    }\n",
              "</style>\n",
              "<table border=\"1\" class=\"dataframe\">\n",
              "  <thead>\n",
              "    <tr style=\"text-align: right;\">\n",
              "      <th></th>\n",
              "      <th>Recency</th>\n",
              "      <th>Frequency</th>\n",
              "      <th>Monetary</th>\n",
              "      <th>KCluster</th>\n",
              "    </tr>\n",
              "  </thead>\n",
              "  <tbody>\n",
              "    <tr>\n",
              "      <th>0</th>\n",
              "      <td>2</td>\n",
              "      <td>7</td>\n",
              "      <td>4310.00</td>\n",
              "      <td>1</td>\n",
              "    </tr>\n",
              "    <tr>\n",
              "      <th>1</th>\n",
              "      <td>75</td>\n",
              "      <td>4</td>\n",
              "      <td>1437.24</td>\n",
              "      <td>0</td>\n",
              "    </tr>\n",
              "    <tr>\n",
              "      <th>2</th>\n",
              "      <td>18</td>\n",
              "      <td>1</td>\n",
              "      <td>1457.55</td>\n",
              "      <td>0</td>\n",
              "    </tr>\n",
              "    <tr>\n",
              "      <th>3</th>\n",
              "      <td>310</td>\n",
              "      <td>1</td>\n",
              "      <td>294.40</td>\n",
              "      <td>2</td>\n",
              "    </tr>\n",
              "    <tr>\n",
              "      <th>4</th>\n",
              "      <td>36</td>\n",
              "      <td>7</td>\n",
              "      <td>1385.74</td>\n",
              "      <td>1</td>\n",
              "    </tr>\n",
              "  </tbody>\n",
              "</table>\n",
              "</div>"
            ],
            "text/plain": [
              "   Recency  Frequency  Monetary  KCluster\n",
              "0        2          7   4310.00         1\n",
              "1       75          4   1437.24         0\n",
              "2       18          1   1457.55         0\n",
              "3      310          1    294.40         2\n",
              "4       36          7   1385.74         1"
            ]
          },
          "execution_count": 43,
          "metadata": {},
          "output_type": "execute_result"
        }
      ],
      "source": [
        "customer_data_cleaned['KCluster'] = Kmodel.labels_\n",
        "customer_data_cleaned.head()"
      ]
    },
    {
      "cell_type": "code",
      "execution_count": 44,
      "metadata": {
        "colab": {
          "base_uri": "https://localhost:8080/",
          "height": 175
        },
        "id": "aDNQVUiosnh-",
        "outputId": "2de6dad2-6d0e-4cd1-ecb8-71467553b173"
      },
      "outputs": [
        {
          "data": {
            "text/html": [
              "<div>\n",
              "<style scoped>\n",
              "    .dataframe tbody tr th:only-of-type {\n",
              "        vertical-align: middle;\n",
              "    }\n",
              "\n",
              "    .dataframe tbody tr th {\n",
              "        vertical-align: top;\n",
              "    }\n",
              "\n",
              "    .dataframe thead th {\n",
              "        text-align: right;\n",
              "    }\n",
              "</style>\n",
              "<table border=\"1\" class=\"dataframe\">\n",
              "  <thead>\n",
              "    <tr style=\"text-align: right;\">\n",
              "      <th></th>\n",
              "      <th>Recency</th>\n",
              "      <th>Frequency</th>\n",
              "      <th>Monetary</th>\n",
              "    </tr>\n",
              "    <tr>\n",
              "      <th>KCluster</th>\n",
              "      <th></th>\n",
              "      <th></th>\n",
              "      <th></th>\n",
              "    </tr>\n",
              "  </thead>\n",
              "  <tbody>\n",
              "    <tr>\n",
              "      <th>0</th>\n",
              "      <td>49.57</td>\n",
              "      <td>2.47</td>\n",
              "      <td>738.32</td>\n",
              "    </tr>\n",
              "    <tr>\n",
              "      <th>1</th>\n",
              "      <td>28.50</td>\n",
              "      <td>8.07</td>\n",
              "      <td>3133.57</td>\n",
              "    </tr>\n",
              "    <tr>\n",
              "      <th>2</th>\n",
              "      <td>251.49</td>\n",
              "      <td>1.44</td>\n",
              "      <td>410.44</td>\n",
              "    </tr>\n",
              "  </tbody>\n",
              "</table>\n",
              "</div>"
            ],
            "text/plain": [
              "          Recency  Frequency  Monetary\n",
              "KCluster                              \n",
              "0           49.57       2.47    738.32\n",
              "1           28.50       8.07   3133.57\n",
              "2          251.49       1.44    410.44"
            ]
          },
          "execution_count": 44,
          "metadata": {},
          "output_type": "execute_result"
        }
      ],
      "source": [
        "customer_data_cleaned.groupby('KCluster').agg(\n",
        "    {\n",
        "        'Recency':'mean',\n",
        "        'Frequency':'mean',\n",
        "        'Monetary':'mean'\n",
        "    }\n",
        ").round(2)"
      ]
    },
    {
      "cell_type": "code",
      "execution_count": 45,
      "metadata": {
        "colab": {
          "base_uri": "https://localhost:8080/"
        },
        "id": "FAFftbO1tgpl",
        "outputId": "2756e639-c783-40f5-bdac-66a3ce4d8343"
      },
      "outputs": [
        {
          "name": "stdout",
          "output_type": "stream",
          "text": [
            "Requirement already satisfied: plotly in c:\\users\\loq\\appdata\\local\\programs\\python\\python313\\lib\\site-packages (6.0.1)\n",
            "Requirement already satisfied: narwhals>=1.15.1 in c:\\users\\loq\\appdata\\local\\programs\\python\\python313\\lib\\site-packages (from plotly) (1.33.0)\n",
            "Requirement already satisfied: packaging in c:\\users\\loq\\appdata\\local\\programs\\python\\python313\\lib\\site-packages (from plotly) (24.1)\n"
          ]
        },
        {
          "name": "stderr",
          "output_type": "stream",
          "text": [
            "\n",
            "[notice] A new release of pip is available: 24.2 -> 25.1.1\n",
            "[notice] To update, run: python.exe -m pip install --upgrade pip\n"
          ]
        }
      ],
      "source": [
        "!pip install plotly\n",
        "import plotly.graph_objects as go"
      ]
    },
    {
      "cell_type": "code",
      "execution_count": 46,
      "metadata": {
        "colab": {
          "base_uri": "https://localhost:8080/",
          "height": 817
        },
        "id": "Qlynhgh4uLgh",
        "outputId": "2f99a755-4e2d-40f6-a796-ad0cac9b7a1f"
      },
      "outputs": [
        {
          "data": {
            "application/vnd.plotly.v1+json": {
              "config": {
                "plotlyServerURL": "https://plot.ly"
              },
              "data": [
                {
                  "marker": {
                    "color": "blue",
                    "opacity": 0.4,
                    "size": 5
                  },
                  "mode": "markers",
                  "name": "Cluster 0",
                  "type": "scatter3d",
                  "x": {
                    "bdata": "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",
                    "dtype": "i2"
                  },
                  "y": {
                    "bdata": "BAEDAgMCBAEBAwECAgQDAgEBBAICAQQBAQUDAwEBBAMCAQMBAgECAQEBAQEBAQMCAgQCAwEBAQMBAgcBAwIDAgICAQIEBQEBAgMDBAEBAQIBAwECAgEBAgECAQICBQMCAQEBAQECAgMCBwEBAgEDBAEBBAIBAQMCAwIBBAIBAwEDAQQCAwECBQQBAQEBAgIEBgQEAgUEAgQDAgEBAwEBAgIBAgQFBAQBAQECAQECAwICAQUGAgUEAQMBAgEDAQECAgQCBQEDBgICAgIBAgEDAQECBgICAgMCBAEDAgEBAgIFAgEGAQEEAgIDBAQBAgMCBgMGBAECAQEBBAIBAgIDAgQDAQQDAwEDAQIFAgMCAgICAwMCAQIEAgMDAQQCAQIBBAUCAQUBAQEGAQQCBAEFAgEBAwQGAwEEAQQEAQQEBAQBBAIEBAIBAwIDAQEBAwECAgEBBAQEAgUBAwMFAwEEAgECAgQEAwEBBAIDAgIDAQEBAgECBAEBAwMCAgEEAQQBAwUDAgUDAwQCAQUBAgMBAQMBAQECAQEBAQEBAgECAQEBAwMCAwECBQIBAgUBAwICAQIBAwMBBAICAgEBAwECAgMBAgICBgUBAwMEAwIFAwMBAQYEAQEEAwMBAQMBBQICAQMCAwIHAgQBAwICAgICBQQCAQIDBAUBAgECAQEDAQcDBAMBBQUFAQUDAQEDAQQBAwICAwMCAQIEAQEDAQMBBgUEAQMCAgYCAQIBAwIFBQYCAgIBAwMBAQIGAgECAgIBAgEFAgMEAgICAgICBQMBAQQEAQEDAwIBAwEBBQQBAwIDBQEBAQUFAQIBBAMBAgIEAgICAgEEAQEEAgICAQMEAwEEAgUDAgICAQIBAQQFAQIGAQUDAgMDAQEDAgMCAgECAwUDAQQEBQIBAgEBBQIBAwEFBgEBAQEBAQEFAgEEBAUBAwMDAgUDAgECBAECAgICAQQCBAEEAQQCAQIBBAcBAgEBBQQBAQMEAwUEBAICAwMCAgMCBAMCBAMGBAEEAQEDAgYBAQUCAgMBAgQECAECAQQCAgEDBAECAQEDAwMCAgQGAQICAwYBAgECBQYBBAQEBQIEAgIBAwMDBAICAQMEAQEBBgEBAgUDAwQFBgIFAwMCAQIEAQEDAwECAgMCAgICBQQCAQMBAgEEAQEBBQEEAwMCAgEBBAQDBQUCAgIDAgEBAQIEAgEEBAICAQQCBQEFAQMFAQIEBQMBAwQDAQQCBQMGAQMDBgcFBQEBAgEBBAMCAQMCAQMCAgICAgEEAQEDAQEBBAECAwIEBAQBAwQCAgIDAgQBAQIBAgIEAgMBAgYBAQICAQQGAQIBBAIEAgQCAgEBAwQCAwECBgEBAQEDBAIFAgEBAQQDAQMBAQYFAgICAwEEAQEDAQICAQMEAQMEBAIEAQMGAQIEAwMDAgQEAQMCAgMBAQUCAQQBAQECAgUDBAMBBAUBAQIDAgIBBAUDBAEEAQEBAQMDAQIDAQUBAwIBAgMBAwIEBQIEBQIDAQUCBAMCBQECAwECBQEBAQEBAgUBAgIBAQEBAgMDAQgDAQQBAgEBAwEBAQMCAQIBAQEDAQECAQICBAEBAQMFAQQCBAECAwUCAgQEAwEBBAEFAwECAQUBAwEDAgMBAwEDAQEDAgIBAQECAQMBAwIFAgIEAQMFAwECAQEDAgQCBAMBAQECAwQBAQEBBAMCAQMFBAIBAwIDBAQBAQUFAQECAQEFBAECBAEDBAEEBAICAQIBAQQEAQMBAgIEAQEBAQIBBAQDAQEEAwUBAgIBAQQEBAQFAgIEAQEBAwIBAQQBBAEDAQMEAgECAgEDAQEBAwMBAwECAwMDAgMBAwMFBAUEBAICAwIBAwQEAQEDAgQBAgIBBQEFBAIDAQECAgIBAQEFAQMBAwIBAwEFAQECAgQCBAEBAgQCAwECAQMEAgEBAgEBBgQEAwQDAwMBAgMDAQEBBgICAwMFBAQDAQIBAQYEBQIBAwICBQUDAQQDAQMGAQEBAwQCBAIEAQEFAgMDAgEDAQIFAwIDBAEFBgMEAQEBAQEGAgQCAQECBAQBBAQBAgECAQEDBAUCBAMEAQICAwEFAQQHAgQBAQMBBQIBBAMBAQICAgMBBQIDAwMBAQQEAgECBAICAwQEBQECAQICAwQCAgIEAQICAwIEBQUCAgEBAQUCAQECAQMDBgEBAQEBBQIDBAEBAQEDAwQDAQQEBAMCAQEBAwEEAwMGBAEBAgMEBQECAgEBAwEBBAEDAwICAgIBBQEDAwIBAQIDAQMBAQIBBgEBAgQBAgIEAgECBAMBAgEBAgQEBAECBgIDAgQBBQIEAgICBAMBBQEBAgUEAwEDAQIFBQEBAwEDAQMDBQEEAQICAgECAQYBAQEEAQMEAwIFAgQBAgIBAQEEAgIDAQEBAwICAQICAgMEAwYBAQMCAwEFBQEDBgMBAQQFAQEGAgYBAwMDAQICAQMGAwMCAQEBAwECAwEBAQIBBgUGBAIDAgQGAQEDAwIEAQMDBgIBAgMDAQEBAwUEAQMDAwEBBQMDAQQEAwIBAgICAwIFBAQDBAIEBgEDAgEBBQIHAgMEAQEBAgIDAwICAgEEBAICAgIBAwEBAQYBAgEGAgIBAgYCAgEBAQICAQICAgIFAgMCBAQBAQMGAQcDAgMBAgQBBQECAwEDAwIHBAICAQEEAgMBBAEFBAMCAQIBAwMEAwQCAQEBAgECBAIDBQEDBQMCAQIDAgIBAwICAQICAgIFAQIGAwIFAgIFBQEBBAMCAgEDBAIBAQEBBAUBAwUEBAQBAgECAwIEAQUCAwQBBwMCBAQDAwIEAwQDAgIBAQIFAQMDAQMBAgQBAwQBAgECAQQBAQQFAgICBQIEAgIGAgEBBAEBAgQDAgEEBAMBBAIDAwIEAgEFAwIBAgEDAgIEAwMCAQIEAgEBBAMDAQEEBQQDAQUEAwEBAwEBAQIEAwYFBQEEBAEDAQgDAQECAQEEAQIBAwEEAgIEBQIDAgIBAQEBAwMBAQIFAQMBBAEBBwQCAgIBAQEFAwIBAQECAQIDAwYCAQMBAQEDAgEBBQIDAQEBBAMBAgEBAQIBAgIEAQMDBQMCAgIDAwICAwICAgUBAwYBAwUEAQYEAQEDAgEBAgEDAgEFAQECBQECBAMGBQEEAgIBAgEDAgMCAQIDAQEBAQID",
                    "dtype": "i1"
                  },
                  "z": {
                    "bdata": "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",
                    "dtype": "f8"
                  }
                },
                {
                  "marker": {
                    "color": "red",
                    "opacity": 0.4,
                    "size": 5
                  },
                  "mode": "markers",
                  "name": "Cluster 1",
                  "type": "scatter3d",
                  "x": {
                    "bdata": "AgAkADkAAwAzAIEADwATABYAIAADAAAAGQAJACMAKgAVABYASQBCAAoAIAAPABwAFgARACMABQAXAF8ATwATAAkACQAWAAgACAACAAMAJQATAAkAHAA5ABAAFwAKAEMAgAAWABEAAAAIAAsACgAHABwABwAHAA8AHQAcAAkAHwAcAAoAAgADAA8AAwAlAAIAJQA7AAIAjwBBAIYABwAaAAMACwAnABcABACKACMAAgAQAB4AAQAJAAgAnQAJAAEACgA1AAQAcQA4AH4AFQAgAB8AFQBZAAQAOAAKABAAVAAdABoABwAOAAoAHgADAAQADAASADUACwARAAEAFwAEACUAQgAmAFIACQA8AB8AHgABAAAABQAOABAAGgAaABEAAQAzAAcASAADADoAIQAhAAEAKwBCAEkADAAPAAsABQBjABgAEAAQACsACQABAAIAHwAaAAUAAwAxABgAEAACAAMAAgALAAIAQAAJAIoAHgAWABAAOgASAHsAAgAWABUACgABABwASAA5AAEAFQACAAcAEgAfAB0AEwAqAAMACgArAAkAoQASAAIAKAAQAAMABAAHABAASQAzAAMAFgADAAIAAQAuAAgAEwA7AAgAHgACAAEACgBpADUACwAqABwAGgBLACsACAABAEAACAAPAAMAFwALAAEABwAIAFgACAAsABEAEAAtAGwACgAKAAIABABrAAoARwBcAFsAAQAAABcACQAIAAUAQgAdAGcAEgAHABMAAwARABEAHwATABkAGAA6ABwABQADAF8AAwCzABIAEwAXADQAGAABAAgAHwAeAAQACgATAA8ACgAJAAEACAAqAAQACQAIADMAAgAvACcAKAADABEANQArAD8AOgBOAAMADAALABUAAwAdAAoACAADAAkAAAEEAA8ACQAZACgAJQAKABIAEgAJAB4AMgAOADQAEQAJABIAAQACABkAAQAKADMAQgDZAEIAHwBkAA8ABwA6ACsAGQAyAAIAQwAyAAwAHwAZACgACACpAA4AVABAAAEAAQAOAAEAXwAPADQADABAACgAEgAWAAkABwAMAAcABACcAAsACAA9AAkAKwAEAA8AGQASAFgAEgAIAAAAIQAoACAAIwAQAA4AEgACACcACgBYACAALgABAAAAFgA/AEkAEQAEACgADAAWAAUAPwAJABMAAAAQAAQAWQAPABgAEQAnABgAAgAMAAgAJAAdAAgAAwAuAB4AEAADADgAVwARAAkAHQAzAAMACAAqAAgAMgBIABYAAgBYAB0AGAAJAAgAQgAQAC0ACQAVACUAQAAFAA4AHAAgAAcABAARAAIAAQAMAAIAHQAHAD8AYwAhAAcAPwAxABYACgBsAKMAQgAPAAQAEQAPAB8AAAAdABEAFgA6ABEAEAACAEgALwAIAAgAVAATAAkAFwAOABEATgAdAAsAAwAeACEACgAKAB0AAQAIAAIACgAfACQAFgBDAB4ABAAFAAQAHACcAAMACAA0AAwAAAAIAAMADABYABEAAwAAAAIAYAAdAEkAFQAcABwABwAEAAIAAgAFAAUADwAfABwAIAAFAAcACwAcACMAIwAaACgABAAYAA8ACAEMAAIACQAIABgAEQADAAAADAAXACgABwAnAAQAAgAdAAsAEAAIAAIAJAACAAEAAAABAM4AOQAcABEAAQABAAcASQADABcAAgAHADUAFgAFACQAAQALABkACgARABkAKgABAAoAEAAHAB4AJgAQAAMAFgAlAH8AEAADAAMACwADAAUAEwAMABoAFgAlABAARwAqABoAUQAFAAMAOwACAEcABAALAAgAMQAFACUADwBKAEYABAAHABUABQByABcACAAtAFEABwBDAAgABwAMAAkABAABAAIABAADACwACQAHACcArAACAA==",
                    "dtype": "i2"
                  },
                  "y": {
                    "bdata": "BwcECgQBBgwCBQkICAQPBAUEBQYIBwsECggECgsFBQsIBgQKBw8JCQQHCgQICQYIBgwFCwkEBQYGBAgICg0FBgcHCwUJBwgHBgQOBAgGBgcMBQUIBQQFBwcICwgICQgNCgUJBgkJDAoHCAMIBQgHBQwLCQoGCAcOBwYFDAoPBAoEBggDBAMGBwgKBwcGBgUGBAoFBAQGBQcHBwwEDAkGBwsFBAYGBQQHDwoJDQgEDAcJDgcKBAsDBwQGCQgECA0NBQoEBQkGBQYHCAYMBgkGDAcFBAgLDAQICQ4LBgcMBwQLDwQFCwMHBg8NBgYJBgkFCgULCgUFCAMPAwULCQkGCQYHCAgICAkJDQUHBgkHDQYKBgUJCwcIBgULBggGCQkGBwgQBQgEBwkJBgQGBgcJBgUHCQcNCwsICAcHCwYLBwwICwwGBgQEBgcICQkFBwwJCQsKAwoIDwsJBAYGBwMKCwgHCg0FDwEGCAsGBAwIDQcHDwkFDgYMBgwHCgcHDAcGCAQHBwcEBgoFCwgICAsJDhAMBwoOCQkLCQkICQcEAwkNCAcNBQcIEAgHBgYFAwgNBgUOCAwICAYPBwcHCAgIDggODAcICgcHBQUQCAkDBwoFBwcIBAYGCwUJBgQMDQUHAg0HAggFCQoECA4GBwcJBgkNDAoKBwUHBQcHBwYHCgUMBwoQDgcFEQUGCgcGCwwGBw0NBQoLBgcNBQcHDQsFCw0HCgoJCwsGBgUHDwcICwsHBAMJCQcGBwIKBwsJBgULBwkJBgcJCAgFBwYKBwgGBwcHBggHCg4ICAoRBwkICA8LCAgIBgcMBwcMBgYHBgcHBwoJCAoGCAoIBwUHBg8GDggJCwoMBwwHBwYGBwcPCAQJCw8GCwMNBwYJCAoOCgkMBwgFCQwIBgwIEQcHCQwODQgJCgoKDgwKCwQHBggGDAQGBgYKDgwLBwcIBgY=",
                    "dtype": "i1"
                  },
                  "z": {
                    "bdata": "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",
                    "dtype": "f8"
                  }
                },
                {
                  "marker": {
                    "color": "green",
                    "opacity": 0.4,
                    "size": 5
                  },
                  "mode": "markers",
                  "name": "Cluster 2",
                  "type": "scatter3d",
                  "x": {
                    "bdata": "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",
                    "dtype": "i2"
                  },
                  "y": {
                    "bdata": "AQEBAQEBAQIFAgEBAgMBAQECAQIBAgEBAQEBAgEBAgEBAQEBAQICAQUBAQECAQEBAQEBAQEBAQEBAQIBAQMCAQEBAQEBAQIBAQECAQEBAgEBAQEEAQECAQIBAgECAwIBAgEBAQECAQEBAQEDAQIBAQEBAQEBAQEBAQEBAgEBAQEBAgEBAQEBAQEBAgIBAQEBAQECAQEBAQIBAQEBAQEBAQEBAQEBAgEBAQEBAQECAgECAgEBAQQCAgEBAQIBAgECAQECAwEBAgEBAQEBAQEBAQEBAgICAQECAgEBAQEBAQECAQIBBQECAQIBAQEBAQECAQEBAQEBAQIDAQECAQMBAQECAQEBAwECAQEBAQEDAgIEAQEBAQECAQEBAgEBAQEBAQIBAQIBAgEBAQEBAgEDAgEEAQIBAQIBAwEBAQICAQECAQIBAQEBAQECAQECAQEBAQEBAQEBAQECAQEBAQEBAQEBAQIDAQEDAQICAQECAgECAgQBAQEBAgEEAQEBAQMBAgECAQECAgECAwICAgEBAgEBAQEBAwEBAQIDAQEDAgECAQMDAQEBAwEBAQEBAQICAgEBAQEBAQECAQIBAQEBAQEBAQIBAQEBBAEBAQIDAgYBAQEBAgECAQEBAQEBAQECAQEBAgEBAQICAQECAQECAQECAQEBAQEBAQEBAQEEAQMBAQIBAgEBAgIBAQEBAQEBAQECAgIBAQEBAQEDAQEBBAEBBgECAQEEAQEBAQEEAQEDAQEDAwICAQUCAQEBAgIBAQEBAQIBAgEBAwEEAwEBBAIBAQEBAgIBBQQCAQIBAgEBAgECAwEBAQEBAQEBAQECAQMBAQMDAgEBAQEBAQEBAgEBAQIBAQEBAQEBAQEBAQEBAgEBAwECAQMBAgIBAgEBAQEBAQEBAQYBAQIBAQEBAQEDAQMBAQIBAgEBAgMBAgEBAQEDAQIBAgIBAQEDAQEBAgIBAgEBAQEBAQEBAQEBAQIBAgIBAQEBAgECAgIBAQYBAQEBAQEBAQECAQECAQIBAQEBAwECAQEBAgMBAgEBAQMBBAIBAQEBAgEDAgIBAQEEAQECAQEBAQEBAQEBAQMBAQEBAwEBBAEBAgEBAQEBAQIBAQEBAgEBAQICAQIDAgIBAwECAQEDAQIEAQEBAwEBAQECAgIBAQEBAQEBAQEDAQEBAQEDAQEBAgMBAgEBAwEBAQECAQEBAgICAQEBAQEBAgEBAwUBAgECAQEEAgEBAQEBAQYBAQEBAgIBAQMBAgEBBQEBAQIBBAEBAQEBAgEBAQEDAQEDAgEBAQEBAgIBAgEBAwECAQECAgEBAgEBAQEBAQEBAQIBAQECAQIBAQMBAQECAQEBBQEFAQEBAQE=",
                    "dtype": "i1"
                  },
                  "z": {
                    "bdata": "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",
                    "dtype": "f8"
                  }
                }
              ],
              "layout": {
                "height": 800,
                "scene": {
                  "xaxis": {
                    "backgroundcolor": "#fcf0dc",
                    "gridcolor": "white",
                    "title": {
                      "text": "Recency"
                    }
                  },
                  "yaxis": {
                    "backgroundcolor": "#fcf0dc",
                    "gridcolor": "white",
                    "title": {
                      "text": "Frequency"
                    }
                  },
                  "zaxis": {
                    "backgroundcolor": "#fcf0dc",
                    "gridcolor": "white",
                    "title": {
                      "text": "Monetary"
                    }
                  }
                },
                "template": {
                  "data": {
                    "bar": [
                      {
                        "error_x": {
                          "color": "#2a3f5f"
                        },
                        "error_y": {
                          "color": "#2a3f5f"
                        },
                        "marker": {
                          "line": {
                            "color": "#E5ECF6",
                            "width": 0.5
                          },
                          "pattern": {
                            "fillmode": "overlay",
                            "size": 10,
                            "solidity": 0.2
                          }
                        },
                        "type": "bar"
                      }
                    ],
                    "barpolar": [
                      {
                        "marker": {
                          "line": {
                            "color": "#E5ECF6",
                            "width": 0.5
                          },
                          "pattern": {
                            "fillmode": "overlay",
                            "size": 10,
                            "solidity": 0.2
                          }
                        },
                        "type": "barpolar"
                      }
                    ],
                    "carpet": [
                      {
                        "aaxis": {
                          "endlinecolor": "#2a3f5f",
                          "gridcolor": "white",
                          "linecolor": "white",
                          "minorgridcolor": "white",
                          "startlinecolor": "#2a3f5f"
                        },
                        "baxis": {
                          "endlinecolor": "#2a3f5f",
                          "gridcolor": "white",
                          "linecolor": "white",
                          "minorgridcolor": "white",
                          "startlinecolor": "#2a3f5f"
                        },
                        "type": "carpet"
                      }
                    ],
                    "choropleth": [
                      {
                        "colorbar": {
                          "outlinewidth": 0,
                          "ticks": ""
                        },
                        "type": "choropleth"
                      }
                    ],
                    "contour": [
                      {
                        "colorbar": {
                          "outlinewidth": 0,
                          "ticks": ""
                        },
                        "colorscale": [
                          [
                            0,
                            "#0d0887"
                          ],
                          [
                            0.1111111111111111,
                            "#46039f"
                          ],
                          [
                            0.2222222222222222,
                            "#7201a8"
                          ],
                          [
                            0.3333333333333333,
                            "#9c179e"
                          ],
                          [
                            0.4444444444444444,
                            "#bd3786"
                          ],
                          [
                            0.5555555555555556,
                            "#d8576b"
                          ],
                          [
                            0.6666666666666666,
                            "#ed7953"
                          ],
                          [
                            0.7777777777777778,
                            "#fb9f3a"
                          ],
                          [
                            0.8888888888888888,
                            "#fdca26"
                          ],
                          [
                            1,
                            "#f0f921"
                          ]
                        ],
                        "type": "contour"
                      }
                    ],
                    "contourcarpet": [
                      {
                        "colorbar": {
                          "outlinewidth": 0,
                          "ticks": ""
                        },
                        "type": "contourcarpet"
                      }
                    ],
                    "heatmap": [
                      {
                        "colorbar": {
                          "outlinewidth": 0,
                          "ticks": ""
                        },
                        "colorscale": [
                          [
                            0,
                            "#0d0887"
                          ],
                          [
                            0.1111111111111111,
                            "#46039f"
                          ],
                          [
                            0.2222222222222222,
                            "#7201a8"
                          ],
                          [
                            0.3333333333333333,
                            "#9c179e"
                          ],
                          [
                            0.4444444444444444,
                            "#bd3786"
                          ],
                          [
                            0.5555555555555556,
                            "#d8576b"
                          ],
                          [
                            0.6666666666666666,
                            "#ed7953"
                          ],
                          [
                            0.7777777777777778,
                            "#fb9f3a"
                          ],
                          [
                            0.8888888888888888,
                            "#fdca26"
                          ],
                          [
                            1,
                            "#f0f921"
                          ]
                        ],
                        "type": "heatmap"
                      }
                    ],
                    "histogram": [
                      {
                        "marker": {
                          "pattern": {
                            "fillmode": "overlay",
                            "size": 10,
                            "solidity": 0.2
                          }
                        },
                        "type": "histogram"
                      }
                    ],
                    "histogram2d": [
                      {
                        "colorbar": {
                          "outlinewidth": 0,
                          "ticks": ""
                        },
                        "colorscale": [
                          [
                            0,
                            "#0d0887"
                          ],
                          [
                            0.1111111111111111,
                            "#46039f"
                          ],
                          [
                            0.2222222222222222,
                            "#7201a8"
                          ],
                          [
                            0.3333333333333333,
                            "#9c179e"
                          ],
                          [
                            0.4444444444444444,
                            "#bd3786"
                          ],
                          [
                            0.5555555555555556,
                            "#d8576b"
                          ],
                          [
                            0.6666666666666666,
                            "#ed7953"
                          ],
                          [
                            0.7777777777777778,
                            "#fb9f3a"
                          ],
                          [
                            0.8888888888888888,
                            "#fdca26"
                          ],
                          [
                            1,
                            "#f0f921"
                          ]
                        ],
                        "type": "histogram2d"
                      }
                    ],
                    "histogram2dcontour": [
                      {
                        "colorbar": {
                          "outlinewidth": 0,
                          "ticks": ""
                        },
                        "colorscale": [
                          [
                            0,
                            "#0d0887"
                          ],
                          [
                            0.1111111111111111,
                            "#46039f"
                          ],
                          [
                            0.2222222222222222,
                            "#7201a8"
                          ],
                          [
                            0.3333333333333333,
                            "#9c179e"
                          ],
                          [
                            0.4444444444444444,
                            "#bd3786"
                          ],
                          [
                            0.5555555555555556,
                            "#d8576b"
                          ],
                          [
                            0.6666666666666666,
                            "#ed7953"
                          ],
                          [
                            0.7777777777777778,
                            "#fb9f3a"
                          ],
                          [
                            0.8888888888888888,
                            "#fdca26"
                          ],
                          [
                            1,
                            "#f0f921"
                          ]
                        ],
                        "type": "histogram2dcontour"
                      }
                    ],
                    "mesh3d": [
                      {
                        "colorbar": {
                          "outlinewidth": 0,
                          "ticks": ""
                        },
                        "type": "mesh3d"
                      }
                    ],
                    "parcoords": [
                      {
                        "line": {
                          "colorbar": {
                            "outlinewidth": 0,
                            "ticks": ""
                          }
                        },
                        "type": "parcoords"
                      }
                    ],
                    "pie": [
                      {
                        "automargin": true,
                        "type": "pie"
                      }
                    ],
                    "scatter": [
                      {
                        "fillpattern": {
                          "fillmode": "overlay",
                          "size": 10,
                          "solidity": 0.2
                        },
                        "type": "scatter"
                      }
                    ],
                    "scatter3d": [
                      {
                        "line": {
                          "colorbar": {
                            "outlinewidth": 0,
                            "ticks": ""
                          }
                        },
                        "marker": {
                          "colorbar": {
                            "outlinewidth": 0,
                            "ticks": ""
                          }
                        },
                        "type": "scatter3d"
                      }
                    ],
                    "scattercarpet": [
                      {
                        "marker": {
                          "colorbar": {
                            "outlinewidth": 0,
                            "ticks": ""
                          }
                        },
                        "type": "scattercarpet"
                      }
                    ],
                    "scattergeo": [
                      {
                        "marker": {
                          "colorbar": {
                            "outlinewidth": 0,
                            "ticks": ""
                          }
                        },
                        "type": "scattergeo"
                      }
                    ],
                    "scattergl": [
                      {
                        "marker": {
                          "colorbar": {
                            "outlinewidth": 0,
                            "ticks": ""
                          }
                        },
                        "type": "scattergl"
                      }
                    ],
                    "scattermap": [
                      {
                        "marker": {
                          "colorbar": {
                            "outlinewidth": 0,
                            "ticks": ""
                          }
                        },
                        "type": "scattermap"
                      }
                    ],
                    "scattermapbox": [
                      {
                        "marker": {
                          "colorbar": {
                            "outlinewidth": 0,
                            "ticks": ""
                          }
                        },
                        "type": "scattermapbox"
                      }
                    ],
                    "scatterpolar": [
                      {
                        "marker": {
                          "colorbar": {
                            "outlinewidth": 0,
                            "ticks": ""
                          }
                        },
                        "type": "scatterpolar"
                      }
                    ],
                    "scatterpolargl": [
                      {
                        "marker": {
                          "colorbar": {
                            "outlinewidth": 0,
                            "ticks": ""
                          }
                        },
                        "type": "scatterpolargl"
                      }
                    ],
                    "scatterternary": [
                      {
                        "marker": {
                          "colorbar": {
                            "outlinewidth": 0,
                            "ticks": ""
                          }
                        },
                        "type": "scatterternary"
                      }
                    ],
                    "surface": [
                      {
                        "colorbar": {
                          "outlinewidth": 0,
                          "ticks": ""
                        },
                        "colorscale": [
                          [
                            0,
                            "#0d0887"
                          ],
                          [
                            0.1111111111111111,
                            "#46039f"
                          ],
                          [
                            0.2222222222222222,
                            "#7201a8"
                          ],
                          [
                            0.3333333333333333,
                            "#9c179e"
                          ],
                          [
                            0.4444444444444444,
                            "#bd3786"
                          ],
                          [
                            0.5555555555555556,
                            "#d8576b"
                          ],
                          [
                            0.6666666666666666,
                            "#ed7953"
                          ],
                          [
                            0.7777777777777778,
                            "#fb9f3a"
                          ],
                          [
                            0.8888888888888888,
                            "#fdca26"
                          ],
                          [
                            1,
                            "#f0f921"
                          ]
                        ],
                        "type": "surface"
                      }
                    ],
                    "table": [
                      {
                        "cells": {
                          "fill": {
                            "color": "#EBF0F8"
                          },
                          "line": {
                            "color": "white"
                          }
                        },
                        "header": {
                          "fill": {
                            "color": "#C8D4E3"
                          },
                          "line": {
                            "color": "white"
                          }
                        },
                        "type": "table"
                      }
                    ]
                  },
                  "layout": {
                    "annotationdefaults": {
                      "arrowcolor": "#2a3f5f",
                      "arrowhead": 0,
                      "arrowwidth": 1
                    },
                    "autotypenumbers": "strict",
                    "coloraxis": {
                      "colorbar": {
                        "outlinewidth": 0,
                        "ticks": ""
                      }
                    },
                    "colorscale": {
                      "diverging": [
                        [
                          0,
                          "#8e0152"
                        ],
                        [
                          0.1,
                          "#c51b7d"
                        ],
                        [
                          0.2,
                          "#de77ae"
                        ],
                        [
                          0.3,
                          "#f1b6da"
                        ],
                        [
                          0.4,
                          "#fde0ef"
                        ],
                        [
                          0.5,
                          "#f7f7f7"
                        ],
                        [
                          0.6,
                          "#e6f5d0"
                        ],
                        [
                          0.7,
                          "#b8e186"
                        ],
                        [
                          0.8,
                          "#7fbc41"
                        ],
                        [
                          0.9,
                          "#4d9221"
                        ],
                        [
                          1,
                          "#276419"
                        ]
                      ],
                      "sequential": [
                        [
                          0,
                          "#0d0887"
                        ],
                        [
                          0.1111111111111111,
                          "#46039f"
                        ],
                        [
                          0.2222222222222222,
                          "#7201a8"
                        ],
                        [
                          0.3333333333333333,
                          "#9c179e"
                        ],
                        [
                          0.4444444444444444,
                          "#bd3786"
                        ],
                        [
                          0.5555555555555556,
                          "#d8576b"
                        ],
                        [
                          0.6666666666666666,
                          "#ed7953"
                        ],
                        [
                          0.7777777777777778,
                          "#fb9f3a"
                        ],
                        [
                          0.8888888888888888,
                          "#fdca26"
                        ],
                        [
                          1,
                          "#f0f921"
                        ]
                      ],
                      "sequentialminus": [
                        [
                          0,
                          "#0d0887"
                        ],
                        [
                          0.1111111111111111,
                          "#46039f"
                        ],
                        [
                          0.2222222222222222,
                          "#7201a8"
                        ],
                        [
                          0.3333333333333333,
                          "#9c179e"
                        ],
                        [
                          0.4444444444444444,
                          "#bd3786"
                        ],
                        [
                          0.5555555555555556,
                          "#d8576b"
                        ],
                        [
                          0.6666666666666666,
                          "#ed7953"
                        ],
                        [
                          0.7777777777777778,
                          "#fb9f3a"
                        ],
                        [
                          0.8888888888888888,
                          "#fdca26"
                        ],
                        [
                          1,
                          "#f0f921"
                        ]
                      ]
                    },
                    "colorway": [
                      "#636efa",
                      "#EF553B",
                      "#00cc96",
                      "#ab63fa",
                      "#FFA15A",
                      "#19d3f3",
                      "#FF6692",
                      "#B6E880",
                      "#FF97FF",
                      "#FECB52"
                    ],
                    "font": {
                      "color": "#2a3f5f"
                    },
                    "geo": {
                      "bgcolor": "white",
                      "lakecolor": "white",
                      "landcolor": "#E5ECF6",
                      "showlakes": true,
                      "showland": true,
                      "subunitcolor": "white"
                    },
                    "hoverlabel": {
                      "align": "left"
                    },
                    "hovermode": "closest",
                    "mapbox": {
                      "style": "light"
                    },
                    "paper_bgcolor": "white",
                    "plot_bgcolor": "#E5ECF6",
                    "polar": {
                      "angularaxis": {
                        "gridcolor": "white",
                        "linecolor": "white",
                        "ticks": ""
                      },
                      "bgcolor": "#E5ECF6",
                      "radialaxis": {
                        "gridcolor": "white",
                        "linecolor": "white",
                        "ticks": ""
                      }
                    },
                    "scene": {
                      "xaxis": {
                        "backgroundcolor": "#E5ECF6",
                        "gridcolor": "white",
                        "gridwidth": 2,
                        "linecolor": "white",
                        "showbackground": true,
                        "ticks": "",
                        "zerolinecolor": "white"
                      },
                      "yaxis": {
                        "backgroundcolor": "#E5ECF6",
                        "gridcolor": "white",
                        "gridwidth": 2,
                        "linecolor": "white",
                        "showbackground": true,
                        "ticks": "",
                        "zerolinecolor": "white"
                      },
                      "zaxis": {
                        "backgroundcolor": "#E5ECF6",
                        "gridcolor": "white",
                        "gridwidth": 2,
                        "linecolor": "white",
                        "showbackground": true,
                        "ticks": "",
                        "zerolinecolor": "white"
                      }
                    },
                    "shapedefaults": {
                      "line": {
                        "color": "#2a3f5f"
                      }
                    },
                    "ternary": {
                      "aaxis": {
                        "gridcolor": "white",
                        "linecolor": "white",
                        "ticks": ""
                      },
                      "baxis": {
                        "gridcolor": "white",
                        "linecolor": "white",
                        "ticks": ""
                      },
                      "bgcolor": "#E5ECF6",
                      "caxis": {
                        "gridcolor": "white",
                        "linecolor": "white",
                        "ticks": ""
                      }
                    },
                    "title": {
                      "x": 0.05
                    },
                    "xaxis": {
                      "automargin": true,
                      "gridcolor": "white",
                      "linecolor": "white",
                      "ticks": "",
                      "title": {
                        "standoff": 15
                      },
                      "zerolinecolor": "white",
                      "zerolinewidth": 2
                    },
                    "yaxis": {
                      "automargin": true,
                      "gridcolor": "white",
                      "linecolor": "white",
                      "ticks": "",
                      "title": {
                        "standoff": 15
                      },
                      "zerolinecolor": "white",
                      "zerolinewidth": 2
                    }
                  }
                },
                "title": {
                  "text": "Trực quan hóa 3D các cụm khách hàng dựa trên RFM",
                  "x": 0.5
                },
                "width": 900
              }
            }
          },
          "metadata": {},
          "output_type": "display_data"
        }
      ],
      "source": [
        "cluster_0 = customer_data_cleaned[customer_data_cleaned['KCluster'] == 0]\n",
        "cluster_1 = customer_data_cleaned[customer_data_cleaned['KCluster'] == 1]\n",
        "cluster_2 = customer_data_cleaned[customer_data_cleaned['KCluster'] == 2]\n",
        "\n",
        "fig = go.Figure()\n",
        "\n",
        "colors = ['blue', 'red', 'green']  \n",
        "\n",
        "fig.add_trace(go.Scatter3d(x=cluster_0['Recency'], y=cluster_0['Frequency'], z=cluster_0['Monetary'],\n",
        "                           mode='markers', marker=dict(color=colors[0], size=5, opacity=0.4), name='Cluster 0'))\n",
        "fig.add_trace(go.Scatter3d(x=cluster_1['Recency'], y=cluster_1['Frequency'], z=cluster_1['Monetary'],\n",
        "                           mode='markers', marker=dict(color=colors[1], size=5, opacity=0.4), name='Cluster 1'))\n",
        "fig.add_trace(go.Scatter3d(x=cluster_2['Recency'], y=cluster_2['Frequency'], z=cluster_2['Monetary'],\n",
        "                           mode='markers', marker=dict(color=colors[2], size=5, opacity=0.4), name='Cluster 2'))\n",
        "\n",
        "fig.update_layout(\n",
        "    title=dict(text='Trực quan hóa 3D các cụm khách hàng dựa trên RFM', x=0.5),  \n",
        "    scene=dict(\n",
        "        xaxis=dict(backgroundcolor=\"#fcf0dc\", gridcolor='white', title='Recency'), \n",
        "        yaxis=dict(backgroundcolor=\"#fcf0dc\", gridcolor='white', title='Frequency'), \n",
        "        zaxis=dict(backgroundcolor=\"#fcf0dc\", gridcolor='white', title='Monetary'),\n",
        "    ),\n",
        "    width=900,\n",
        "    height=800\n",
        ")\n",
        "\n",
        "# Hiển thị biểu đồ\n",
        "fig.show()"
      ]
    },
    {
      "cell_type": "code",
      "execution_count": 47,
      "metadata": {},
      "outputs": [
        {
          "name": "stdout",
          "output_type": "stream",
          "text": [
            "Requirement already satisfied: tabulate in c:\\users\\loq\\appdata\\local\\programs\\python\\python313\\lib\\site-packages (0.9.0)\n"
          ]
        },
        {
          "name": "stderr",
          "output_type": "stream",
          "text": [
            "\n",
            "[notice] A new release of pip is available: 24.2 -> 25.1.1\n",
            "[notice] To update, run: python.exe -m pip install --upgrade pip\n"
          ]
        }
      ],
      "source": [
        "!pip install tabulate\n",
        "from tabulate import tabulate\n",
        "from sklearn.metrics import silhouette_score, davies_bouldin_score, calinski_harabasz_score"
      ]
    },
    {
      "cell_type": "code",
      "execution_count": 48,
      "metadata": {
        "colab": {
          "base_uri": "https://localhost:8080/"
        },
        "id": "iI6ihR7TJtK-",
        "outputId": "3d8c6fe3-d9a1-415a-c6f1-f566333aeb95"
      },
      "outputs": [
        {
          "name": "stdout",
          "output_type": "stream",
          "text": [
            "+-------------------------+--------------------+\n",
            "|         Metric          |       Value        |\n",
            "+-------------------------+--------------------+\n",
            "| Number of Observations  |        4117        |\n",
            "|    Silhouette Score     | 0.4844959374836404 |\n",
            "| Calinski Harabasz Score | 4576.935004790457  |\n",
            "|  Davies Bouldin Score   | 0.7286125484217614 |\n",
            "+-------------------------+--------------------+\n"
          ]
        }
      ],
      "source": [
        "num_observations = len(customer_data_scaled)\n",
        "\n",
        "X = customer_data_scaled\n",
        "clusters = customer_data_cleaned['KCluster']\n",
        "\n",
        "sil_score = silhouette_score(X, clusters)\n",
        "calinski_score = calinski_harabasz_score(X, clusters)\n",
        "davies_score = davies_bouldin_score(X, clusters)\n",
        "\n",
        "table_data = [\n",
        "    [\"Number of Observations\", num_observations],\n",
        "    [\"Silhouette Score\", sil_score],\n",
        "    [\"Calinski Harabasz Score\", calinski_score],\n",
        "    [\"Davies Bouldin Score\", davies_score]\n",
        "]\n",
        "\n",
        "print(tabulate(table_data, headers=[\"Metric\", \"Value\"], tablefmt='pretty'))"
      ]
    },
    {
      "cell_type": "code",
      "execution_count": 49,
      "metadata": {
        "colab": {
          "base_uri": "https://localhost:8080/"
        },
        "id": "Cr0ABLxeMpwE",
        "outputId": "802c7e53-dff6-4e22-e8d6-7242dbf5defd"
      },
      "outputs": [
        {
          "name": "stdout",
          "output_type": "stream",
          "text": [
            "    k       init  max_iter  n_init  Silhouette Score  Davies-Bouldin Score  \\\n",
            "0   3  k-means++       100      10          0.484496              0.728613   \n",
            "1   3  k-means++       100      20          0.484496              0.728613   \n",
            "2   3  k-means++       200      10          0.484496              0.728613   \n",
            "3   3  k-means++       200      20          0.484496              0.728613   \n",
            "4   3  k-means++       300      10          0.484496              0.728613   \n",
            "5   3  k-means++       300      20          0.484496              0.728613   \n",
            "6   3     random       100      10          0.484429              0.728708   \n",
            "7   3     random       100      20          0.484429              0.728708   \n",
            "8   3     random       200      10          0.484429              0.728708   \n",
            "9   3     random       200      20          0.484429              0.728708   \n",
            "10  3     random       300      10          0.484429              0.728708   \n",
            "11  3     random       300      20          0.484429              0.728708   \n",
            "19  4     random       100      20          0.456509              0.817344   \n",
            "21  4     random       200      20          0.456509              0.817344   \n",
            "23  4     random       300      20          0.456509              0.817344   \n",
            "12  4  k-means++       100      10          0.456494              0.817336   \n",
            "15  4  k-means++       200      20          0.456494              0.817336   \n",
            "16  4  k-means++       300      10          0.456494              0.817336   \n",
            "14  4  k-means++       200      10          0.456494              0.817336   \n",
            "13  4  k-means++       100      20          0.456494              0.817336   \n",
            "18  4     random       100      10          0.456494              0.817336   \n",
            "17  4  k-means++       300      20          0.456494              0.817336   \n",
            "20  4     random       200      10          0.456494              0.817336   \n",
            "22  4     random       300      10          0.456494              0.817336   \n",
            "24  5  k-means++       100      10          0.397840              0.874293   \n",
            "26  5  k-means++       200      10          0.397840              0.874293   \n",
            "28  5  k-means++       300      10          0.397840              0.874293   \n",
            "25  5  k-means++       100      20          0.397831              0.873627   \n",
            "27  5  k-means++       200      20          0.397831              0.873627   \n",
            "29  5  k-means++       300      20          0.397831              0.873627   \n",
            "30  5     random       100      10          0.391051              0.947972   \n",
            "31  5     random       100      20          0.391051              0.947972   \n",
            "32  5     random       200      10          0.391051              0.947972   \n",
            "33  5     random       200      20          0.391051              0.947972   \n",
            "34  5     random       300      10          0.391051              0.947972   \n",
            "35  5     random       300      20          0.391051              0.947972   \n",
            "48  7  k-means++       100      10          0.390325              0.892402   \n",
            "49  7  k-means++       100      20          0.390325              0.892402   \n",
            "52  7  k-means++       300      10          0.390325              0.892402   \n",
            "53  7  k-means++       300      20          0.390325              0.892402   \n",
            "50  7  k-means++       200      10          0.390325              0.892402   \n",
            "51  7  k-means++       200      20          0.390325              0.892402   \n",
            "55  7     random       100      20          0.389447              0.893427   \n",
            "57  7     random       200      20          0.389447              0.893427   \n",
            "59  7     random       300      20          0.389447              0.893427   \n",
            "54  7     random       100      10          0.387765              0.908273   \n",
            "56  7     random       200      10          0.387765              0.908273   \n",
            "58  7     random       300      10          0.387765              0.908273   \n",
            "38  6  k-means++       200      10          0.383498              0.937412   \n",
            "40  6  k-means++       300      10          0.383498              0.937412   \n",
            "36  6  k-means++       100      10          0.383498              0.937412   \n",
            "37  6  k-means++       100      20          0.382886              0.939418   \n",
            "43  6     random       100      20          0.382886              0.939418   \n",
            "42  6     random       100      10          0.382886              0.939418   \n",
            "41  6  k-means++       300      20          0.382886              0.939418   \n",
            "39  6  k-means++       200      20          0.382886              0.939418   \n",
            "44  6     random       200      10          0.382886              0.939418   \n",
            "45  6     random       200      20          0.382886              0.939418   \n",
            "46  6     random       300      10          0.382886              0.939418   \n",
            "47  6     random       300      20          0.382886              0.939418   \n",
            "\n",
            "    Calinski-Harabasz Score  \n",
            "0               4576.935005  \n",
            "1               4576.935005  \n",
            "2               4576.935005  \n",
            "3               4576.935005  \n",
            "4               4576.935005  \n",
            "5               4576.935005  \n",
            "6               4576.932592  \n",
            "7               4576.932592  \n",
            "8               4576.932592  \n",
            "9               4576.932592  \n",
            "10              4576.932592  \n",
            "11              4576.932592  \n",
            "19              4618.160282  \n",
            "21              4618.160282  \n",
            "23              4618.160282  \n",
            "12              4618.161553  \n",
            "15              4618.161553  \n",
            "16              4618.161553  \n",
            "14              4618.161553  \n",
            "13              4618.161553  \n",
            "18              4618.161553  \n",
            "17              4618.161553  \n",
            "20              4618.161553  \n",
            "22              4618.161553  \n",
            "24              4186.636628  \n",
            "26              4186.636628  \n",
            "28              4186.636628  \n",
            "25              4186.664252  \n",
            "27              4186.664252  \n",
            "29              4186.664252  \n",
            "30              4186.831123  \n",
            "31              4186.831123  \n",
            "32              4186.831123  \n",
            "33              4186.831123  \n",
            "34              4186.831123  \n",
            "35              4186.831123  \n",
            "48              4090.686932  \n",
            "49              4090.686932  \n",
            "52              4090.686932  \n",
            "53              4090.686932  \n",
            "50              4090.686932  \n",
            "51              4090.686932  \n",
            "55              4090.086329  \n",
            "57              4090.086329  \n",
            "59              4090.086329  \n",
            "54              4083.364150  \n",
            "56              4083.364150  \n",
            "58              4083.364150  \n",
            "38              4097.183809  \n",
            "40              4097.183809  \n",
            "36              4097.183809  \n",
            "37              4097.765112  \n",
            "43              4097.765112  \n",
            "42              4097.765112  \n",
            "41              4097.765112  \n",
            "39              4097.765112  \n",
            "44              4097.765112  \n",
            "45              4097.765112  \n",
            "46              4097.765112  \n",
            "47              4097.765112  \n"
          ]
        }
      ],
      "source": [
        "X_cluster_scaled = customer_data_scaled\n",
        "\n",
        "experiments = []\n",
        "\n",
        "for k in [3, 4, 5, 6, 7]:  \n",
        "    for init_method in ['k-means++', 'random']:\n",
        "        for max_iter in [100, 200, 300]:\n",
        "            for n_init in [10, 20]:\n",
        "                model_kmeans = KMeans(n_clusters=k, init=init_method, max_iter=max_iter, n_init=n_init, random_state=42)\n",
        "                labels = model_kmeans.fit_predict(X_cluster_scaled)\n",
        "                sil_score = silhouette_score(X_cluster_scaled, labels)\n",
        "                davies_bouldin = davies_bouldin_score(X_cluster_scaled, labels)\n",
        "                calinski_harabasz = calinski_harabasz_score(X_cluster_scaled, labels)\n",
        "                experiments.append([k, init_method, max_iter, n_init, sil_score, davies_bouldin, calinski_harabasz])\n",
        "\n",
        "score = pd.DataFrame(experiments, columns=['k', 'init', 'max_iter', 'n_init', 'Silhouette Score', 'Davies-Bouldin Score', 'Calinski-Harabasz Score'])\n",
        "\n",
        "print(score.sort_values(by='Silhouette Score', ascending=False))"
      ]
    },
    {
      "cell_type": "code",
      "execution_count": 50,
      "metadata": {},
      "outputs": [],
      "source": [
        "score.to_excel(\"ModelScore.xlsx\", index=False)"
      ]
    },
    {
      "cell_type": "code",
      "execution_count": 51,
      "metadata": {},
      "outputs": [
        {
          "name": "stderr",
          "output_type": "stream",
          "text": [
            "C:\\Users\\LOQ\\AppData\\Local\\Temp\\ipykernel_17304\\1947335351.py:6: FutureWarning:\n",
            "\n",
            "\n",
            "\n",
            "Passing `palette` without assigning `hue` is deprecated and will be removed in v0.14.0. Assign the `y` variable to `hue` and set `legend=False` for the same effect.\n",
            "\n",
            "\n"
          ]
        },
        {
          "data": {
            "image/png": "[encoded data removed]",
            "text/plain": [
              "<Figure size 1000x400 with 1 Axes>"
            ]
          },
          "metadata": {},
          "output_type": "display_data"
        }
      ],
      "source": [
        "cluster_percentage = (customer_data_cleaned['KCluster'].value_counts(normalize=True) * 100).reset_index()\n",
        "cluster_percentage.columns = ['Cluster', 'Percentage']\n",
        "cluster_percentage.sort_values(by='Cluster', inplace=True)\n",
        "\n",
        "plt.figure(figsize=(10, 4))\n",
        "sns.barplot(x='Percentage', y='Cluster', data=cluster_percentage, orient='h', palette=colors)\n",
        "\n",
        "for index, value in enumerate(cluster_percentage['Percentage']):\n",
        "    plt.text(value+0.5, index, f'{value:.2f}%')\n",
        "\n",
        "plt.title('Distribution of Customers Across Clusters', fontsize=14)\n",
        "plt.xticks(ticks=np.arange(0, 50, 5))\n",
        "plt.xlabel('Percentage (%)')\n",
        "\n",
        "plt.show()"
      ]
    },
    {
      "cell_type": "code",
      "execution_count": 52,
      "metadata": {},
      "outputs": [
        {
          "data": {
            "image/png": "[encoded data removed]",
            "text/plain": [
              "<Figure size 800x800 with 1 Axes>"
            ]
          },
          "metadata": {},
          "output_type": "display_data"
        }
      ],
      "source": [
        "plt.figure(figsize=(8, 8))\n",
        "\n",
        "patches, texts, autotexts = plt.pie(cluster_percentage['Percentage'], \n",
        "                                    labels=None,  \n",
        "                                    autopct='%1.2f%%', \n",
        "                                    startangle=140,\n",
        "                                    colors=colors)\n",
        "\n",
        "\n",
        "plt.legend(patches, cluster_percentage['Cluster'], title=\"Clusters\", loc=\"best\")\n",
        "plt.title('Distribution of Customers Across Clusters', fontsize=14)\n",
        "plt.axis('equal')  \n",
        "plt.tight_layout()\n",
        "plt.show()\n",
        "\n"
      ]
    },
    {
      "cell_type": "code",
      "execution_count": 53,
      "metadata": {},
      "outputs": [
        {
          "data": {
            "image/png": "[encoded data removed]",
            "text/plain": [
              "<Figure size 2000x900 with 9 Axes>"
            ]
          },
          "metadata": {},
          "output_type": "display_data"
        }
      ],
      "source": [
        "features = customer_data_cleaned.columns[0:3]\n",
        "clusters = customer_data_cleaned['KCluster'].unique()\n",
        "clusters.sort()\n",
        "\n",
        "n_rows = len(features)\n",
        "n_cols = len(clusters)\n",
        "fig, axes = plt.subplots(n_rows, n_cols, figsize=(20, 3*n_rows))\n",
        "\n",
        "for i, feature in enumerate(features):\n",
        "    for j, cluster in enumerate(clusters):\n",
        "        data = customer_data_cleaned[customer_data_cleaned['KCluster'] == cluster][feature]\n",
        "        axes[i, j].hist(data, bins=20, color=colors[j], edgecolor='w', alpha=0.7)\n",
        "        axes[i, j].set_title(f'Cluster {cluster} - {feature}', fontsize=15)\n",
        "        axes[i, j].set_xlabel('')\n",
        "        axes[i, j].set_ylabel('')\n",
        "\n",
        "plt.tight_layout()\n",
        "plt.show()"
      ]
    },
    {
      "cell_type": "code",
      "execution_count": 54,
      "metadata": {},
      "outputs": [
        {
          "data": {
            "text/plain": [
              "<seaborn.axisgrid.FacetGrid at 0x285d44ed160>"
            ]
          },
          "execution_count": 54,
          "metadata": {},
          "output_type": "execute_result"
        },
        {
          "data": {
            "image/png": "[encoded data removed]",
            "text/plain": [
              "<Figure size 568.611x500 with 1 Axes>"
            ]
          },
          "metadata": {},
          "output_type": "display_data"
        }
      ],
      "source": [
        "sns.catplot(x=\"KCluster\",y = \"Recency\", hue=\"KCluster\", kind=\"box\", palette=['blue', 'red', 'green'], data=customer_data_cleaned)"
      ]
    },
    {
      "cell_type": "code",
      "execution_count": 55,
      "metadata": {},
      "outputs": [
        {
          "data": {
            "text/plain": [
              "<seaborn.axisgrid.FacetGrid at 0x285e84bbd90>"
            ]
          },
          "execution_count": 55,
          "metadata": {},
          "output_type": "execute_result"
        },
        {
          "data": {
            "image/png": "[encoded data removed]",
            "text/plain": [
              "<Figure size 568.611x500 with 1 Axes>"
            ]
          },
          "metadata": {},
          "output_type": "display_data"
        }
      ],
      "source": [
        "sns.catplot(x=\"KCluster\",y = \"Frequency\", hue=\"KCluster\", kind=\"box\", palette=['blue', 'red', 'green'], data=customer_data_cleaned)"
      ]
    },
    {
      "cell_type": "code",
      "execution_count": 56,
      "metadata": {},
      "outputs": [
        {
          "data": {
            "text/plain": [
              "<seaborn.axisgrid.FacetGrid at 0x285e8587250>"
            ]
          },
          "execution_count": 56,
          "metadata": {},
          "output_type": "execute_result"
        },
        {
          "data": {
            "image/png": "[encoded data removed]",
            "text/plain": [
              "<Figure size 568.611x500 with 1 Axes>"
            ]
          },
          "metadata": {},
          "output_type": "display_data"
        }
      ],
      "source": [
        "sns.catplot(x=\"KCluster\",y = \"Monetary\", hue=\"KCluster\", kind=\"box\",palette=['blue', 'red', 'green'],  data=customer_data_cleaned)"
      ]
    },
    {
      "cell_type": "code",
      "execution_count": 57,
      "metadata": {},
      "outputs": [],
      "source": [
        "import pickle\n",
        "cluster_labels = {\n",
        "    1: \"Vip\",\n",
        "    0: \"Phổ thông\",\n",
        "    2: \"Rời bỏ\"\n",
        "}\n",
        "\n",
        "# Lưu mapping này cùng với model\n",
        "with open(\"cluster_labels.pkl\", \"wb\") as f:\n",
        "    pickle.dump(cluster_labels, f)"
      ]
    },
    {
      "cell_type": "code",
      "execution_count": 58,
      "metadata": {
        "id": "mEqjDwHgGjk6"
      },
      "outputs": [
        {
          "name": "stdout",
          "output_type": "stream",
          "text": [
            "Model và Scaler đã được lưu!\n"
          ]
        }
      ],
      "source": [
        "# Lưu model KMeans\n",
        "with open(\"model_kmeans.pkl\", \"wb\") as model_file:\n",
        "    pickle.dump(Kmodel, model_file)\n",
        "\n",
        "# Lưu scaler\n",
        "with open(\"scaler.pkl\", \"wb\") as scaler_file:\n",
        "    pickle.dump(scaler, scaler_file)\n",
        "\n",
        "print(\"Model và Scaler đã được lưu!\")"
      ]
    },
    {
      "cell_type": "markdown",
      "metadata": {
        "id": "ZdrxQWsw-8Ei"
      },
      "source": [
        "## 2. BSCSAN"
      ]
    },
    {
      "cell_type": "code",
      "execution_count": 62,
      "metadata": {
        "id": "9j0Pg1lB_Qjk"
      },
      "outputs": [],
      "source": [
        "from sklearn.cluster import DBSCAN"
      ]
    },
    {
      "cell_type": "code",
      "execution_count": 73,
      "metadata": {
        "colab": {
          "base_uri": "https://localhost:8080/",
          "height": 423
        },
        "id": "8L0GeXCfE3O_",
        "outputId": "96f2f2cb-9738-44ea-d1a9-5f434b4a723e"
      },
      "outputs": [
        {
          "data": {
            "text/html": [
              "<div>\n",
              "<style scoped>\n",
              "    .dataframe tbody tr th:only-of-type {\n",
              "        vertical-align: middle;\n",
              "    }\n",
              "\n",
              "    .dataframe tbody tr th {\n",
              "        vertical-align: top;\n",
              "    }\n",
              "\n",
              "    .dataframe thead th {\n",
              "        text-align: right;\n",
              "    }\n",
              "</style>\n",
              "<table border=\"1\" class=\"dataframe\">\n",
              "  <thead>\n",
              "    <tr style=\"text-align: right;\">\n",
              "      <th></th>\n",
              "      <th>Recency</th>\n",
              "      <th>Frequency</th>\n",
              "      <th>Monetary</th>\n",
              "      <th>KCluster</th>\n",
              "    </tr>\n",
              "  </thead>\n",
              "  <tbody>\n",
              "    <tr>\n",
              "      <th>0</th>\n",
              "      <td>2</td>\n",
              "      <td>7</td>\n",
              "      <td>4310.00</td>\n",
              "      <td>1</td>\n",
              "    </tr>\n",
              "    <tr>\n",
              "      <th>1</th>\n",
              "      <td>75</td>\n",
              "      <td>4</td>\n",
              "      <td>1437.24</td>\n",
              "      <td>0</td>\n",
              "    </tr>\n",
              "    <tr>\n",
              "      <th>2</th>\n",
              "      <td>18</td>\n",
              "      <td>1</td>\n",
              "      <td>1457.55</td>\n",
              "      <td>0</td>\n",
              "    </tr>\n",
              "    <tr>\n",
              "      <th>3</th>\n",
              "      <td>310</td>\n",
              "      <td>1</td>\n",
              "      <td>294.40</td>\n",
              "      <td>2</td>\n",
              "    </tr>\n",
              "    <tr>\n",
              "      <th>4</th>\n",
              "      <td>36</td>\n",
              "      <td>7</td>\n",
              "      <td>1385.74</td>\n",
              "      <td>1</td>\n",
              "    </tr>\n",
              "    <tr>\n",
              "      <th>...</th>\n",
              "      <td>...</td>\n",
              "      <td>...</td>\n",
              "      <td>...</td>\n",
              "      <td>...</td>\n",
              "    </tr>\n",
              "    <tr>\n",
              "      <th>4112</th>\n",
              "      <td>73</td>\n",
              "      <td>1</td>\n",
              "      <td>173.90</td>\n",
              "      <td>0</td>\n",
              "    </tr>\n",
              "    <tr>\n",
              "      <th>4113</th>\n",
              "      <td>277</td>\n",
              "      <td>1</td>\n",
              "      <td>180.60</td>\n",
              "      <td>2</td>\n",
              "    </tr>\n",
              "    <tr>\n",
              "      <th>4114</th>\n",
              "      <td>180</td>\n",
              "      <td>1</td>\n",
              "      <td>80.82</td>\n",
              "      <td>2</td>\n",
              "    </tr>\n",
              "    <tr>\n",
              "      <th>4115</th>\n",
              "      <td>7</td>\n",
              "      <td>2</td>\n",
              "      <td>178.05</td>\n",
              "      <td>0</td>\n",
              "    </tr>\n",
              "    <tr>\n",
              "      <th>4116</th>\n",
              "      <td>42</td>\n",
              "      <td>3</td>\n",
              "      <td>1837.28</td>\n",
              "      <td>0</td>\n",
              "    </tr>\n",
              "  </tbody>\n",
              "</table>\n",
              "<p>4117 rows × 4 columns</p>\n",
              "</div>"
            ],
            "text/plain": [
              "      Recency  Frequency  Monetary  KCluster\n",
              "0           2          7   4310.00         1\n",
              "1          75          4   1437.24         0\n",
              "2          18          1   1457.55         0\n",
              "3         310          1    294.40         2\n",
              "4          36          7   1385.74         1\n",
              "...       ...        ...       ...       ...\n",
              "4112       73          1    173.90         0\n",
              "4113      277          1    180.60         2\n",
              "4114      180          1     80.82         2\n",
              "4115        7          2    178.05         0\n",
              "4116       42          3   1837.28         0\n",
              "\n",
              "[4117 rows x 4 columns]"
            ]
          },
          "execution_count": 73,
          "metadata": {},
          "output_type": "execute_result"
        }
      ],
      "source": [
        "customer_data_cleaned"
      ]
    },
    {
      "cell_type": "code",
      "execution_count": 64,
      "metadata": {
        "id": "pS3pDW4sH1Jb"
      },
      "outputs": [],
      "source": [
        "r_labels = range(4, 0, -1)\n",
        "r_groups = pd.qcut(customer_data_cleaned['Recency'], q=4, labels=r_labels, duplicates='drop')\n",
        "\n",
        "f_labels = range(1, 5)\n",
        "f_groups = pd.qcut(customer_data_cleaned['Frequency'], q=4, labels=False, duplicates='drop')\n",
        "\n",
        "m_labels = range(1, 5)\n",
        "m_groups = pd.qcut(customer_data_cleaned['Monetary'], q=4, labels=m_labels, duplicates='drop')"
      ]
    },
    {
      "cell_type": "code",
      "execution_count": 65,
      "metadata": {
        "id": "xCwxn8adFzex"
      },
      "outputs": [],
      "source": [
        "customer_data_cleaned['R'] = r_groups.values\n",
        "customer_data_cleaned['F'] = f_groups.values\n",
        "customer_data_cleaned['M'] = m_groups.values"
      ]
    },
    {
      "cell_type": "code",
      "execution_count": 66,
      "metadata": {
        "colab": {
          "base_uri": "https://localhost:8080/",
          "height": 80
        },
        "id": "-9t_RuRN_NGJ",
        "outputId": "fd406b7a-34dd-430e-ba2f-1a3b3d17fb9a"
      },
      "outputs": [
        {
          "data": {
            "text/html": [
              "<style>#sk-container-id-2 {\n",
              "  /* Definition of color scheme common for light and dark mode */\n",
              "  --sklearn-color-text: #000;\n",
              "  --sklearn-color-text-muted: #666;\n",
              "  --sklearn-color-line: gray;\n",
              "  /* Definition of color scheme for unfitted estimators */\n",
              "  --sklearn-color-unfitted-level-0: #fff5e6;\n",
              "  --sklearn-color-unfitted-level-1: #f6e4d2;\n",
              "  --sklearn-color-unfitted-level-2: #ffe0b3;\n",
              "  --sklearn-color-unfitted-level-3: chocolate;\n",
              "  /* Definition of color scheme for fitted estimators */\n",
              "  --sklearn-color-fitted-level-0: #f0f8ff;\n",
              "  --sklearn-color-fitted-level-1: #d4ebff;\n",
              "  --sklearn-color-fitted-level-2: #b3dbfd;\n",
              "  --sklearn-color-fitted-level-3: cornflowerblue;\n",
              "\n",
              "  /* Specific color for light theme */\n",
              "  --sklearn-color-text-on-default-background: var(--sg-text-color, var(--theme-code-foreground, var(--jp-content-font-color1, black)));\n",
              "  --sklearn-color-background: var(--sg-background-color, var(--theme-background, var(--jp-layout-color0, white)));\n",
              "  --sklearn-color-border-box: var(--sg-text-color, var(--theme-code-foreground, var(--jp-content-font-color1, black)));\n",
              "  --sklearn-color-icon: #696969;\n",
              "\n",
              "  @media (prefers-color-scheme: dark) {\n",
              "    /* Redefinition of color scheme for dark theme */\n",
              "    --sklearn-color-text-on-default-background: var(--sg-text-color, var(--theme-code-foreground, var(--jp-content-font-color1, white)));\n",
              "    --sklearn-color-background: var(--sg-background-color, var(--theme-background, var(--jp-layout-color0, #111)));\n",
              "    --sklearn-color-border-box: var(--sg-text-color, var(--theme-code-foreground, var(--jp-content-font-color1, white)));\n",
              "    --sklearn-color-icon: #878787;\n",
              "  }\n",
              "}\n",
              "\n",
              "#sk-container-id-2 {\n",
              "  color: var(--sklearn-color-text);\n",
              "}\n",
              "\n",
              "#sk-container-id-2 pre {\n",
              "  padding: 0;\n",
              "}\n",
              "\n",
              "#sk-container-id-2 input.sk-hidden--visually {\n",
              "  border: 0;\n",
              "  clip: rect(1px 1px 1px 1px);\n",
              "  clip: rect(1px, 1px, 1px, 1px);\n",
              "  height: 1px;\n",
              "  margin: -1px;\n",
              "  overflow: hidden;\n",
              "  padding: 0;\n",
              "  position: absolute;\n",
              "  width: 1px;\n",
              "}\n",
              "\n",
              "#sk-container-id-2 div.sk-dashed-wrapped {\n",
              "  border: 1px dashed var(--sklearn-color-line);\n",
              "  margin: 0 0.4em 0.5em 0.4em;\n",
              "  box-sizing: border-box;\n",
              "  padding-bottom: 0.4em;\n",
              "  background-color: var(--sklearn-color-background);\n",
              "}\n",
              "\n",
              "#sk-container-id-2 div.sk-container {\n",
              "  /* jupyter's `normalize.less` sets `[hidden] { display: none; }`\n",
              "     but bootstrap.min.css set `[hidden] { display: none !important; }`\n",
              "     so we also need the `!important` here to be able to override the\n",
              "     default hidden behavior on the sphinx rendered scikit-learn.org.\n",
              "     See: https://github.com/scikit-learn/scikit-learn/issues/21755 */\n",
              "  display: inline-block !important;\n",
              "  position: relative;\n",
              "}\n",
              "\n",
              "#sk-container-id-2 div.sk-text-repr-fallback {\n",
              "  display: none;\n",
              "}\n",
              "\n",
              "div.sk-parallel-item,\n",
              "div.sk-serial,\n",
              "div.sk-item {\n",
              "  /* draw centered vertical line to link estimators */\n",
              "  background-image: linear-gradient(var(--sklearn-color-text-on-default-background), var(--sklearn-color-text-on-default-background));\n",
              "  background-size: 2px 100%;\n",
              "  background-repeat: no-repeat;\n",
              "  background-position: center center;\n",
              "}\n",
              "\n",
              "/* Parallel-specific style estimator block */\n",
              "\n",
              "#sk-container-id-2 div.sk-parallel-item::after {\n",
              "  content: \"\";\n",
              "  width: 100%;\n",
              "  border-bottom: 2px solid var(--sklearn-color-text-on-default-background);\n",
              "  flex-grow: 1;\n",
              "}\n",
              "\n",
              "#sk-container-id-2 div.sk-parallel {\n",
              "  display: flex;\n",
              "  align-items: stretch;\n",
              "  justify-content: center;\n",
              "  background-color: var(--sklearn-color-background);\n",
              "  position: relative;\n",
              "}\n",
              "\n",
              "#sk-container-id-2 div.sk-parallel-item {\n",
              "  display: flex;\n",
              "  flex-direction: column;\n",
              "}\n",
              "\n",
              "#sk-container-id-2 div.sk-parallel-item:first-child::after {\n",
              "  align-self: flex-end;\n",
              "  width: 50%;\n",
              "}\n",
              "\n",
              "#sk-container-id-2 div.sk-parallel-item:last-child::after {\n",
              "  align-self: flex-start;\n",
              "  width: 50%;\n",
              "}\n",
              "\n",
              "#sk-container-id-2 div.sk-parallel-item:only-child::after {\n",
              "  width: 0;\n",
              "}\n",
              "\n",
              "/* Serial-specific style estimator block */\n",
              "\n",
              "#sk-container-id-2 div.sk-serial {\n",
              "  display: flex;\n",
              "  flex-direction: column;\n",
              "  align-items: center;\n",
              "  background-color: var(--sklearn-color-background);\n",
              "  padding-right: 1em;\n",
              "  padding-left: 1em;\n",
              "}\n",
              "\n",
              "\n",
              "/* Toggleable style: style used for estimator/Pipeline/ColumnTransformer box that is\n",
              "clickable and can be expanded/collapsed.\n",
              "- Pipeline and ColumnTransformer use this feature and define the default style\n",
              "- Estimators will overwrite some part of the style using the `sk-estimator` class\n",
              "*/\n",
              "\n",
              "/* Pipeline and ColumnTransformer style (default) */\n",
              "\n",
              "#sk-container-id-2 div.sk-toggleable {\n",
              "  /* Default theme specific background. It is overwritten whether we have a\n",
              "  specific estimator or a Pipeline/ColumnTransformer */\n",
              "  background-color: var(--sklearn-color-background);\n",
              "}\n",
              "\n",
              "/* Toggleable label */\n",
              "#sk-container-id-2 label.sk-toggleable__label {\n",
              "  cursor: pointer;\n",
              "  display: flex;\n",
              "  width: 100%;\n",
              "  margin-bottom: 0;\n",
              "  padding: 0.5em;\n",
              "  box-sizing: border-box;\n",
              "  text-align: center;\n",
              "  align-items: start;\n",
              "  justify-content: space-between;\n",
              "  gap: 0.5em;\n",
              "}\n",
              "\n",
              "#sk-container-id-2 label.sk-toggleable__label .caption {\n",
              "  font-size: 0.6rem;\n",
              "  font-weight: lighter;\n",
              "  color: var(--sklearn-color-text-muted);\n",
              "}\n",
              "\n",
              "#sk-container-id-2 label.sk-toggleable__label-arrow:before {\n",
              "  /* Arrow on the left of the label */\n",
              "  content: \"▸\";\n",
              "  float: left;\n",
              "  margin-right: 0.25em;\n",
              "  color: var(--sklearn-color-icon);\n",
              "}\n",
              "\n",
              "#sk-container-id-2 label.sk-toggleable__label-arrow:hover:before {\n",
              "  color: var(--sklearn-color-text);\n",
              "}\n",
              "\n",
              "/* Toggleable content - dropdown */\n",
              "\n",
              "#sk-container-id-2 div.sk-toggleable__content {\n",
              "  max-height: 0;\n",
              "  max-width: 0;\n",
              "  overflow: hidden;\n",
              "  text-align: left;\n",
              "  /* unfitted */\n",
              "  background-color: var(--sklearn-color-unfitted-level-0);\n",
              "}\n",
              "\n",
              "#sk-container-id-2 div.sk-toggleable__content.fitted {\n",
              "  /* fitted */\n",
              "  background-color: var(--sklearn-color-fitted-level-0);\n",
              "}\n",
              "\n",
              "#sk-container-id-2 div.sk-toggleable__content pre {\n",
              "  margin: 0.2em;\n",
              "  border-radius: 0.25em;\n",
              "  color: var(--sklearn-color-text);\n",
              "  /* unfitted */\n",
              "  background-color: var(--sklearn-color-unfitted-level-0);\n",
              "}\n",
              "\n",
              "#sk-container-id-2 div.sk-toggleable__content.fitted pre {\n",
              "  /* unfitted */\n",
              "  background-color: var(--sklearn-color-fitted-level-0);\n",
              "}\n",
              "\n",
              "#sk-container-id-2 input.sk-toggleable__control:checked~div.sk-toggleable__content {\n",
              "  /* Expand drop-down */\n",
              "  max-height: 200px;\n",
              "  max-width: 100%;\n",
              "  overflow: auto;\n",
              "}\n",
              "\n",
              "#sk-container-id-2 input.sk-toggleable__control:checked~label.sk-toggleable__label-arrow:before {\n",
              "  content: \"▾\";\n",
              "}\n",
              "\n",
              "/* Pipeline/ColumnTransformer-specific style */\n",
              "\n",
              "#sk-container-id-2 div.sk-label input.sk-toggleable__control:checked~label.sk-toggleable__label {\n",
              "  color: var(--sklearn-color-text);\n",
              "  background-color: var(--sklearn-color-unfitted-level-2);\n",
              "}\n",
              "\n",
              "#sk-container-id-2 div.sk-label.fitted input.sk-toggleable__control:checked~label.sk-toggleable__label {\n",
              "  background-color: var(--sklearn-color-fitted-level-2);\n",
              "}\n",
              "\n",
              "/* Estimator-specific style */\n",
              "\n",
              "/* Colorize estimator box */\n",
              "#sk-container-id-2 div.sk-estimator input.sk-toggleable__control:checked~label.sk-toggleable__label {\n",
              "  /* unfitted */\n",
              "  background-color: var(--sklearn-color-unfitted-level-2);\n",
              "}\n",
              "\n",
              "#sk-container-id-2 div.sk-estimator.fitted input.sk-toggleable__control:checked~label.sk-toggleable__label {\n",
              "  /* fitted */\n",
              "  background-color: var(--sklearn-color-fitted-level-2);\n",
              "}\n",
              "\n",
              "#sk-container-id-2 div.sk-label label.sk-toggleable__label,\n",
              "#sk-container-id-2 div.sk-label label {\n",
              "  /* The background is the default theme color */\n",
              "  color: var(--sklearn-color-text-on-default-background);\n",
              "}\n",
              "\n",
              "/* On hover, darken the color of the background */\n",
              "#sk-container-id-2 div.sk-label:hover label.sk-toggleable__label {\n",
              "  color: var(--sklearn-color-text);\n",
              "  background-color: var(--sklearn-color-unfitted-level-2);\n",
              "}\n",
              "\n",
              "/* Label box, darken color on hover, fitted */\n",
              "#sk-container-id-2 div.sk-label.fitted:hover label.sk-toggleable__label.fitted {\n",
              "  color: var(--sklearn-color-text);\n",
              "  background-color: var(--sklearn-color-fitted-level-2);\n",
              "}\n",
              "\n",
              "/* Estimator label */\n",
              "\n",
              "#sk-container-id-2 div.sk-label label {\n",
              "  font-family: monospace;\n",
              "  font-weight: bold;\n",
              "  display: inline-block;\n",
              "  line-height: 1.2em;\n",
              "}\n",
              "\n",
              "#sk-container-id-2 div.sk-label-container {\n",
              "  text-align: center;\n",
              "}\n",
              "\n",
              "/* Estimator-specific */\n",
              "#sk-container-id-2 div.sk-estimator {\n",
              "  font-family: monospace;\n",
              "  border: 1px dotted var(--sklearn-color-border-box);\n",
              "  border-radius: 0.25em;\n",
              "  box-sizing: border-box;\n",
              "  margin-bottom: 0.5em;\n",
              "  /* unfitted */\n",
              "  background-color: var(--sklearn-color-unfitted-level-0);\n",
              "}\n",
              "\n",
              "#sk-container-id-2 div.sk-estimator.fitted {\n",
              "  /* fitted */\n",
              "  background-color: var(--sklearn-color-fitted-level-0);\n",
              "}\n",
              "\n",
              "/* on hover */\n",
              "#sk-container-id-2 div.sk-estimator:hover {\n",
              "  /* unfitted */\n",
              "  background-color: var(--sklearn-color-unfitted-level-2);\n",
              "}\n",
              "\n",
              "#sk-container-id-2 div.sk-estimator.fitted:hover {\n",
              "  /* fitted */\n",
              "  background-color: var(--sklearn-color-fitted-level-2);\n",
              "}\n",
              "\n",
              "/* Specification for estimator info (e.g. \"i\" and \"?\") */\n",
              "\n",
              "/* Common style for \"i\" and \"?\" */\n",
              "\n",
              ".sk-estimator-doc-link,\n",
              "a:link.sk-estimator-doc-link,\n",
              "a:visited.sk-estimator-doc-link {\n",
              "  float: right;\n",
              "  font-size: smaller;\n",
              "  line-height: 1em;\n",
              "  font-family: monospace;\n",
              "  background-color: var(--sklearn-color-background);\n",
              "  border-radius: 1em;\n",
              "  height: 1em;\n",
              "  width: 1em;\n",
              "  text-decoration: none !important;\n",
              "  margin-left: 0.5em;\n",
              "  text-align: center;\n",
              "  /* unfitted */\n",
              "  border: var(--sklearn-color-unfitted-level-1) 1pt solid;\n",
              "  color: var(--sklearn-color-unfitted-level-1);\n",
              "}\n",
              "\n",
              ".sk-estimator-doc-link.fitted,\n",
              "a:link.sk-estimator-doc-link.fitted,\n",
              "a:visited.sk-estimator-doc-link.fitted {\n",
              "  /* fitted */\n",
              "  border: var(--sklearn-color-fitted-level-1) 1pt solid;\n",
              "  color: var(--sklearn-color-fitted-level-1);\n",
              "}\n",
              "\n",
              "/* On hover */\n",
              "div.sk-estimator:hover .sk-estimator-doc-link:hover,\n",
              ".sk-estimator-doc-link:hover,\n",
              "div.sk-label-container:hover .sk-estimator-doc-link:hover,\n",
              ".sk-estimator-doc-link:hover {\n",
              "  /* unfitted */\n",
              "  background-color: var(--sklearn-color-unfitted-level-3);\n",
              "  color: var(--sklearn-color-background);\n",
              "  text-decoration: none;\n",
              "}\n",
              "\n",
              "div.sk-estimator.fitted:hover .sk-estimator-doc-link.fitted:hover,\n",
              ".sk-estimator-doc-link.fitted:hover,\n",
              "div.sk-label-container:hover .sk-estimator-doc-link.fitted:hover,\n",
              ".sk-estimator-doc-link.fitted:hover {\n",
              "  /* fitted */\n",
              "  background-color: var(--sklearn-color-fitted-level-3);\n",
              "  color: var(--sklearn-color-background);\n",
              "  text-decoration: none;\n",
              "}\n",
              "\n",
              "/* Span, style for the box shown on hovering the info icon */\n",
              ".sk-estimator-doc-link span {\n",
              "  display: none;\n",
              "  z-index: 9999;\n",
              "  position: relative;\n",
              "  font-weight: normal;\n",
              "  right: .2ex;\n",
              "  padding: .5ex;\n",
              "  margin: .5ex;\n",
              "  width: min-content;\n",
              "  min-width: 20ex;\n",
              "  max-width: 50ex;\n",
              "  color: var(--sklearn-color-text);\n",
              "  box-shadow: 2pt 2pt 4pt #999;\n",
              "  /* unfitted */\n",
              "  background: var(--sklearn-color-unfitted-level-0);\n",
              "  border: .5pt solid var(--sklearn-color-unfitted-level-3);\n",
              "}\n",
              "\n",
              ".sk-estimator-doc-link.fitted span {\n",
              "  /* fitted */\n",
              "  background: var(--sklearn-color-fitted-level-0);\n",
              "  border: var(--sklearn-color-fitted-level-3);\n",
              "}\n",
              "\n",
              ".sk-estimator-doc-link:hover span {\n",
              "  display: block;\n",
              "}\n",
              "\n",
              "/* \"?\"-specific style due to the `<a>` HTML tag */\n",
              "\n",
              "#sk-container-id-2 a.estimator_doc_link {\n",
              "  float: right;\n",
              "  font-size: 1rem;\n",
              "  line-height: 1em;\n",
              "  font-family: monospace;\n",
              "  background-color: var(--sklearn-color-background);\n",
              "  border-radius: 1rem;\n",
              "  height: 1rem;\n",
              "  width: 1rem;\n",
              "  text-decoration: none;\n",
              "  /* unfitted */\n",
              "  color: var(--sklearn-color-unfitted-level-1);\n",
              "  border: var(--sklearn-color-unfitted-level-1) 1pt solid;\n",
              "}\n",
              "\n",
              "#sk-container-id-2 a.estimator_doc_link.fitted {\n",
              "  /* fitted */\n",
              "  border: var(--sklearn-color-fitted-level-1) 1pt solid;\n",
              "  color: var(--sklearn-color-fitted-level-1);\n",
              "}\n",
              "\n",
              "/* On hover */\n",
              "#sk-container-id-2 a.estimator_doc_link:hover {\n",
              "  /* unfitted */\n",
              "  background-color: var(--sklearn-color-unfitted-level-3);\n",
              "  color: var(--sklearn-color-background);\n",
              "  text-decoration: none;\n",
              "}\n",
              "\n",
              "#sk-container-id-2 a.estimator_doc_link.fitted:hover {\n",
              "  /* fitted */\n",
              "  background-color: var(--sklearn-color-fitted-level-3);\n",
              "}\n",
              "</style><div id=\"sk-container-id-2\" class=\"sk-top-container\"><div class=\"sk-text-repr-fallback\"><pre>DBSCAN()</pre><b>In a Jupyter environment, please rerun this cell to show the HTML representation or trust the notebook. <br />On GitHub, the HTML representation is unable to render, please try loading this page with nbviewer.org.</b></div><div class=\"sk-container\" hidden><div class=\"sk-item\"><div class=\"sk-estimator fitted sk-toggleable\"><input class=\"sk-toggleable__control sk-hidden--visually\" id=\"sk-estimator-id-2\" type=\"checkbox\" checked><label for=\"sk-estimator-id-2\" class=\"sk-toggleable__label fitted sk-toggleable__label-arrow\"><div><div>DBSCAN</div></div><div><a class=\"sk-estimator-doc-link fitted\" rel=\"noreferrer\" target=\"_blank\" href=\"https://scikit-learn.org/1.6/modules/generated/sklearn.cluster.DBSCAN.html\">?<span>Documentation for DBSCAN</span></a><span class=\"sk-estimator-doc-link fitted\">i<span>Fitted</span></span></div></label><div class=\"sk-toggleable__content fitted\"><pre>DBSCAN()</pre></div> </div></div></div></div>"
            ],
            "text/plain": [
              "DBSCAN()"
            ]
          },
          "execution_count": 66,
          "metadata": {},
          "output_type": "execute_result"
        }
      ],
      "source": [
        "X = customer_data_cleaned[['R', 'F', 'M']]\n",
        "dbscan = DBSCAN(eps=0.5, min_samples=5)\n",
        "dbscan.fit(X)"
      ]
    },
    {
      "cell_type": "code",
      "execution_count": 72,
      "metadata": {
        "colab": {
          "base_uri": "https://localhost:8080/"
        },
        "id": "NVqZmov_BQ-v",
        "outputId": "32255713-6a59-4b7a-b11d-0bed4a3dcdc1"
      },
      "outputs": [
        {
          "data": {
            "text/plain": [
              "array([-1,  0,  1,  2,  3,  4,  5,  6,  7,  8,  9, 10, 11, 12, 13, 14, 15,\n",
              "       16, 17, 18, 19, 20, 21, 22, 23, 24, 25, 26, 27, 28, 29, 30, 31, 32,\n",
              "       33, 34, 35, 36, 37, 38, 39, 40])"
            ]
          },
          "execution_count": 72,
          "metadata": {},
          "output_type": "execute_result"
        }
      ],
      "source": [
        "np.unique(dbscan.labels_)"
      ]
    },
    {
      "cell_type": "code",
      "execution_count": 73,
      "metadata": {
        "id": "ngpB62smJn77"
      },
      "outputs": [],
      "source": [
        "labels = dbscan.labels_\n",
        "customer_data_cleaned['DCluster'] = labels"
      ]
    },
    {
      "cell_type": "code",
      "execution_count": 79,
      "metadata": {
        "colab": {
          "base_uri": "https://localhost:8080/",
          "height": 423
        },
        "id": "ulMl4D_oLrrX",
        "outputId": "8a760f32-fec9-4ea6-9c22-559d550d085b"
      },
      "outputs": [
        {
          "data": {
            "text/html": [
              "<div>\n",
              "<style scoped>\n",
              "    .dataframe tbody tr th:only-of-type {\n",
              "        vertical-align: middle;\n",
              "    }\n",
              "\n",
              "    .dataframe tbody tr th {\n",
              "        vertical-align: top;\n",
              "    }\n",
              "\n",
              "    .dataframe thead th {\n",
              "        text-align: right;\n",
              "    }\n",
              "</style>\n",
              "<table border=\"1\" class=\"dataframe\">\n",
              "  <thead>\n",
              "    <tr style=\"text-align: right;\">\n",
              "      <th></th>\n",
              "      <th>Recency</th>\n",
              "      <th>Frequency</th>\n",
              "      <th>Monetary</th>\n",
              "      <th>KCluster</th>\n",
              "      <th>GMMCluster</th>\n",
              "      <th>HCluster</th>\n",
              "      <th>R</th>\n",
              "      <th>F</th>\n",
              "      <th>M</th>\n",
              "      <th>DCluster</th>\n",
              "    </tr>\n",
              "  </thead>\n",
              "  <tbody>\n",
              "    <tr>\n",
              "      <th>0</th>\n",
              "      <td>2</td>\n",
              "      <td>7</td>\n",
              "      <td>4310.00</td>\n",
              "      <td>1</td>\n",
              "      <td>2</td>\n",
              "      <td>0</td>\n",
              "      <td>4</td>\n",
              "      <td>2</td>\n",
              "      <td>4</td>\n",
              "      <td>0</td>\n",
              "    </tr>\n",
              "    <tr>\n",
              "      <th>1</th>\n",
              "      <td>75</td>\n",
              "      <td>4</td>\n",
              "      <td>1437.24</td>\n",
              "      <td>0</td>\n",
              "      <td>1</td>\n",
              "      <td>1</td>\n",
              "      <td>2</td>\n",
              "      <td>1</td>\n",
              "      <td>4</td>\n",
              "      <td>1</td>\n",
              "    </tr>\n",
              "    <tr>\n",
              "      <th>2</th>\n",
              "      <td>18</td>\n",
              "      <td>1</td>\n",
              "      <td>1457.55</td>\n",
              "      <td>0</td>\n",
              "      <td>1</td>\n",
              "      <td>1</td>\n",
              "      <td>4</td>\n",
              "      <td>0</td>\n",
              "      <td>4</td>\n",
              "      <td>2</td>\n",
              "    </tr>\n",
              "    <tr>\n",
              "      <th>3</th>\n",
              "      <td>310</td>\n",
              "      <td>1</td>\n",
              "      <td>294.40</td>\n",
              "      <td>2</td>\n",
              "      <td>0</td>\n",
              "      <td>2</td>\n",
              "      <td>1</td>\n",
              "      <td>0</td>\n",
              "      <td>2</td>\n",
              "      <td>3</td>\n",
              "    </tr>\n",
              "    <tr>\n",
              "      <th>4</th>\n",
              "      <td>36</td>\n",
              "      <td>7</td>\n",
              "      <td>1385.74</td>\n",
              "      <td>1</td>\n",
              "      <td>2</td>\n",
              "      <td>0</td>\n",
              "      <td>3</td>\n",
              "      <td>2</td>\n",
              "      <td>3</td>\n",
              "      <td>4</td>\n",
              "    </tr>\n",
              "    <tr>\n",
              "      <th>...</th>\n",
              "      <td>...</td>\n",
              "      <td>...</td>\n",
              "      <td>...</td>\n",
              "      <td>...</td>\n",
              "      <td>...</td>\n",
              "      <td>...</td>\n",
              "      <td>...</td>\n",
              "      <td>...</td>\n",
              "      <td>...</td>\n",
              "      <td>...</td>\n",
              "    </tr>\n",
              "    <tr>\n",
              "      <th>4112</th>\n",
              "      <td>73</td>\n",
              "      <td>1</td>\n",
              "      <td>173.90</td>\n",
              "      <td>0</td>\n",
              "      <td>0</td>\n",
              "      <td>1</td>\n",
              "      <td>2</td>\n",
              "      <td>0</td>\n",
              "      <td>1</td>\n",
              "      <td>28</td>\n",
              "    </tr>\n",
              "    <tr>\n",
              "      <th>4113</th>\n",
              "      <td>277</td>\n",
              "      <td>1</td>\n",
              "      <td>180.60</td>\n",
              "      <td>2</td>\n",
              "      <td>0</td>\n",
              "      <td>2</td>\n",
              "      <td>1</td>\n",
              "      <td>0</td>\n",
              "      <td>1</td>\n",
              "      <td>5</td>\n",
              "    </tr>\n",
              "    <tr>\n",
              "      <th>4114</th>\n",
              "      <td>180</td>\n",
              "      <td>1</td>\n",
              "      <td>80.82</td>\n",
              "      <td>2</td>\n",
              "      <td>0</td>\n",
              "      <td>2</td>\n",
              "      <td>1</td>\n",
              "      <td>0</td>\n",
              "      <td>1</td>\n",
              "      <td>5</td>\n",
              "    </tr>\n",
              "    <tr>\n",
              "      <th>4115</th>\n",
              "      <td>7</td>\n",
              "      <td>2</td>\n",
              "      <td>178.05</td>\n",
              "      <td>0</td>\n",
              "      <td>1</td>\n",
              "      <td>1</td>\n",
              "      <td>4</td>\n",
              "      <td>0</td>\n",
              "      <td>1</td>\n",
              "      <td>11</td>\n",
              "    </tr>\n",
              "    <tr>\n",
              "      <th>4116</th>\n",
              "      <td>42</td>\n",
              "      <td>3</td>\n",
              "      <td>1837.28</td>\n",
              "      <td>0</td>\n",
              "      <td>1</td>\n",
              "      <td>1</td>\n",
              "      <td>3</td>\n",
              "      <td>1</td>\n",
              "      <td>4</td>\n",
              "      <td>7</td>\n",
              "    </tr>\n",
              "  </tbody>\n",
              "</table>\n",
              "<p>4117 rows × 10 columns</p>\n",
              "</div>"
            ],
            "text/plain": [
              "      Recency  Frequency  Monetary  KCluster  GMMCluster  HCluster  R  F  M  \\\n",
              "0           2          7   4310.00         1           2         0  4  2  4   \n",
              "1          75          4   1437.24         0           1         1  2  1  4   \n",
              "2          18          1   1457.55         0           1         1  4  0  4   \n",
              "3         310          1    294.40         2           0         2  1  0  2   \n",
              "4          36          7   1385.74         1           2         0  3  2  3   \n",
              "...       ...        ...       ...       ...         ...       ... .. .. ..   \n",
              "4112       73          1    173.90         0           0         1  2  0  1   \n",
              "4113      277          1    180.60         2           0         2  1  0  1   \n",
              "4114      180          1     80.82         2           0         2  1  0  1   \n",
              "4115        7          2    178.05         0           1         1  4  0  1   \n",
              "4116       42          3   1837.28         0           1         1  3  1  4   \n",
              "\n",
              "      DCluster  \n",
              "0            0  \n",
              "1            1  \n",
              "2            2  \n",
              "3            3  \n",
              "4            4  \n",
              "...        ...  \n",
              "4112        28  \n",
              "4113         5  \n",
              "4114         5  \n",
              "4115        11  \n",
              "4116         7  \n",
              "\n",
              "[4117 rows x 10 columns]"
            ]
          },
          "execution_count": 79,
          "metadata": {},
          "output_type": "execute_result"
        }
      ],
      "source": [
        "customer_data_cleaned"
      ]
    },
    {
      "cell_type": "code",
      "execution_count": 74,
      "metadata": {
        "colab": {
          "base_uri": "https://localhost:8080/"
        },
        "id": "8isSXFl1_h6L",
        "outputId": "94a0f1c5-f06d-4d94-9cfe-ea7eb01caf72"
      },
      "outputs": [
        {
          "name": "stdout",
          "output_type": "stream",
          "text": [
            "DBSCAN Silhouette Score: 0.0186\n",
            "DBSCAN Davies-Bouldin Score: 2.6534\n",
            "DBSCAN Calinski-Harabasz Score: 427.1755\n"
          ]
        }
      ],
      "source": [
        "sil_score_d = silhouette_score(customer_data_scaled, labels)\n",
        "davies_score_d = davies_bouldin_score(customer_data_scaled, labels)\n",
        "calinski_score_d = calinski_harabasz_score(customer_data_scaled, labels)\n",
        "\n",
        "print(f\"DBSCAN Silhouette Score: {sil_score_d:.4f}\")\n",
        "print(f\"DBSCAN Davies-Bouldin Score: {davies_score_d:.4f}\")\n",
        "print(f\"DBSCAN Calinski-Harabasz Score: {calinski_score_d:.4f}\")"
      ]
    },
    {
      "cell_type": "markdown",
      "metadata": {},
      "source": [
        "## 3. GMM"
      ]
    },
    {
      "cell_type": "code",
      "execution_count": 45,
      "metadata": {},
      "outputs": [],
      "source": [
        "from sklearn.mixture import GaussianMixture"
      ]
    },
    {
      "cell_type": "code",
      "execution_count": 77,
      "metadata": {},
      "outputs": [
        {
          "name": "stdout",
          "output_type": "stream",
          "text": [
            "GMM Silhouette Score: 0.2171\n",
            "GMM Davies-Bouldin Score: 1.2241\n",
            "GMM Calinski-Harabasz Score: 1713.2519\n"
          ]
        }
      ],
      "source": [
        "gmm = GaussianMixture(n_components=3, random_state=42)\n",
        "gmm_labels = gmm.fit_predict(customer_data_scaled)\n",
        "\n",
        "customer_data_cleaned['GMMCluster'] = gmm_labels\n",
        "\n",
        "sil_score_gmm = silhouette_score(customer_data_scaled, gmm_labels)\n",
        "davies_score_gmm = davies_bouldin_score(customer_data_scaled, gmm_labels)\n",
        "calinski_score_gmm = calinski_harabasz_score(customer_data_scaled, gmm_labels)\n",
        "\n",
        "print(f\"GMM Silhouette Score: {sil_score_gmm:.4f}\")\n",
        "print(f\"GMM Davies-Bouldin Score: {davies_score_gmm:.4f}\")\n",
        "print(f\"GMM Calinski-Harabasz Score: {calinski_score_gmm:.4f}\")"
      ]
    },
    {
      "cell_type": "markdown",
      "metadata": {},
      "source": [
        "## 4. Hierarchical Clustering"
      ]
    },
    {
      "cell_type": "code",
      "execution_count": null,
      "metadata": {},
      "outputs": [
        {
          "name": "stdout",
          "output_type": "stream",
          "text": [
            "Hierarchical Clustering Silhouette Score: 0.4378\n",
            "Hierarchical Clustering Davies-Bouldin Score: 0.7883\n",
            "Hierarchical Clustering Calinski-Harabasz Score: 4094.2602\n"
          ]
        }
      ],
      "source": [
        "from sklearn.cluster import AgglomerativeClustering\n",
        "from scipy.cluster.hierarchy import dendrogram, linkage\n",
        "import matplotlib.pyplot as plt\n",
        "\n",
        "hierarchical = AgglomerativeClustering(n_clusters=3, metric='euclidean', linkage='ward')\n",
        "h_labels = hierarchical.fit_predict(customer_data_scaled)\n",
        "\n",
        "customer_data_cleaned['HCluster'] = h_labels\n",
        "\n",
        "sil_score_h = silhouette_score(customer_data_scaled, h_labels)\n",
        "davies_score_h = davies_bouldin_score(customer_data_scaled, h_labels)\n",
        "calinski_score_h = calinski_harabasz_score(customer_data_scaled, h_labels)\n",
        "\n",
        "print(f\"Hierarchical Clustering Silhouette Score: {sil_score_h:.4f}\")\n",
        "print(f\"Hierarchical Clustering Davies-Bouldin Score: {davies_score_h:.4f}\")\n",
        "print(f\"Hierarchical Clustering Calinski-Harabasz Score: {calinski_score_h:.4f}\")"
      ]
    }
  ],
  "metadata": {
    "colab": {
      "provenance": []
    },
    "kernelspec": {
      "display_name": "Python 3",
      "name": "python3"
    },
    "language_info": {
      "codemirror_mode": {
        "name": "ipython",
        "version": 3
      },
      "file_extension": ".py",
      "mimetype": "text/x-python",
      "name": "python",
      "nbconvert_exporter": "python",
      "pygments_lexer": "ipython3",
      "version": "3.13.0"
    }
  },
  "nbformat": 4,
  "nbformat_minor": 0
}
